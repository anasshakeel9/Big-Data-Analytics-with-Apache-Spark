{
 "cells": [
  {
   "cell_type": "code",
   "execution_count": 1,
   "id": "ac424aca",
   "metadata": {},
   "outputs": [],
   "source": [
    "import pandas as pd\n",
    "df = pd.read_excel('NON-TRENDING + TRENDING - Copy.xlsx')"
   ]
  },
  {
   "cell_type": "raw",
   "id": "9439879f",
   "metadata": {},
   "source": [
    "df.tail(5)"
   ]
  },
  {
   "cell_type": "raw",
   "id": "436feb44",
   "metadata": {},
   "source": [
    "import datetime"
   ]
  },
  {
   "cell_type": "markdown",
   "id": "b28f3085",
   "metadata": {},
   "source": [
    "# Splitting Published Date"
   ]
  },
  {
   "cell_type": "code",
   "execution_count": 3,
   "id": "365f2562",
   "metadata": {},
   "outputs": [],
   "source": [
    "df[['Date','Time']] = df['publishedAT'].str.split('T', expand = True)\n",
    "df = df.dropna(axis=0, subset=['Date'])\n",
    "#splitting \"Date\" column into month, day and year\n",
    "df[['Year','Month','Day']] = df['Date'].str.split('-', expand=True)\n",
    "#Changing datatype of columns\n",
    "df['Year'] = df['Year'].astype('int')\n",
    "df['Month'] = df['Month'].astype('int')\n",
    "df['Day'] = df['Day'].astype('int')"
   ]
  },
  {
   "cell_type": "raw",
   "id": "4633fdc8",
   "metadata": {},
   "source": [
    "df = df.dropna(axis=0, subset=['Date'])"
   ]
  },
  {
   "cell_type": "raw",
   "id": "6bb702c9",
   "metadata": {},
   "source": [
    "#splitting \"Date\" column into month, day and year\n",
    "df[['Year','Month','Day']] = df['Date'].str.split('-', expand=True)"
   ]
  },
  {
   "cell_type": "raw",
   "id": "26bba8f3",
   "metadata": {},
   "source": [
    "#Changing datatype of columns\n",
    "df['Year'] = df['Year'].astype('int')\n",
    "df['Month'] = df['Month'].astype('int')\n",
    "df['Day'] = df['Day'].astype('int')"
   ]
  },
  {
   "cell_type": "markdown",
   "id": "1145cfcc",
   "metadata": {},
   "source": [
    "# Splitting Trending Date"
   ]
  },
  {
   "cell_type": "code",
   "execution_count": 28,
   "id": "f6034f87",
   "metadata": {},
   "outputs": [],
   "source": [
    "df[['Trending_Year','Trending_Month', 'Trending_Day&Time']] = df['trending_date'].str.split('-', expand=True)\n",
    "df[['Trending_Day','Trending_Time']] = df['Trending_Day&Time'].str.split('T', expand=True)\n",
    "\n",
    "df['Trending_Year'] = df['Trending_Year'].fillna('0')\n",
    "df['Trending_Month'] = df['Trending_Month'].fillna('0')\n",
    "df['Trending_Day'] = df['Trending_Day'].fillna('0')\n",
    "\n",
    "#changing datatype of columns\n",
    "df['Trending_Year'] = df['Trending_Year'].astype('int')\n",
    "df['Trending_Month'] = df['Trending_Month'].astype('int')\n",
    "df['Trending_Day'] = df['Trending_Day'].astype('int')\n",
    "\n",
    "#Creating a new column\n",
    "#How many days a video went on trending\n",
    "df['Trending_Days'] = df['Trending_Day'] - df['Day']"
   ]
  },
  {
   "cell_type": "raw",
   "id": "9595952d",
   "metadata": {},
   "source": [
    "df.to_csv('YouTube_trending_data.csv')"
   ]
  },
  {
   "cell_type": "raw",
   "id": "319136b5",
   "metadata": {},
   "source": [
    "from sklearn.preprocessing import LabelEncoder\n",
    "\n",
    "le = LabelEncoder()\n",
    "df['ratings_disabled'] = le.fit_transform(df['ratings_disabled'])\n"
   ]
  },
  {
   "cell_type": "raw",
   "id": "cd0cc299",
   "metadata": {},
   "source": [
    "mapping = {'TRUE':1, 'FALSE':0}\n",
    "df['ratings_disabled'] = df['ratings_disabled'].map(mapping)\n"
   ]
  },
  {
   "cell_type": "raw",
   "id": "7b1f6476",
   "metadata": {},
   "source": [
    "df['ratings_disabled'] = df['ratings_disabled'].replace({'TRUE':1, 'FALSE':0})"
   ]
  },
  {
   "cell_type": "raw",
   "id": "90ac9806",
   "metadata": {},
   "source": [
    "df = pd.get_dummies(df, columns=['ratings_disabled'])\n"
   ]
  },
  {
   "cell_type": "code",
   "execution_count": 29,
   "id": "68eca15b",
   "metadata": {},
   "outputs": [
    {
     "data": {
      "text/html": [
       "<div>\n",
       "<style scoped>\n",
       "    .dataframe tbody tr th:only-of-type {\n",
       "        vertical-align: middle;\n",
       "    }\n",
       "\n",
       "    .dataframe tbody tr th {\n",
       "        vertical-align: top;\n",
       "    }\n",
       "\n",
       "    .dataframe thead th {\n",
       "        text-align: right;\n",
       "    }\n",
       "</style>\n",
       "<table border=\"1\" class=\"dataframe\">\n",
       "  <thead>\n",
       "    <tr style=\"text-align: right;\">\n",
       "      <th></th>\n",
       "      <th>title</th>\n",
       "      <th>publishedAt</th>\n",
       "      <th>channelTitle</th>\n",
       "      <th>categoryId</th>\n",
       "      <th>trending_date</th>\n",
       "      <th>tags</th>\n",
       "      <th>view_count</th>\n",
       "      <th>likes</th>\n",
       "      <th>comment_count</th>\n",
       "      <th>comments_disabled</th>\n",
       "      <th>...</th>\n",
       "      <th>Time</th>\n",
       "      <th>Year</th>\n",
       "      <th>Month</th>\n",
       "      <th>Day</th>\n",
       "      <th>Trending_Year</th>\n",
       "      <th>Trending_Month</th>\n",
       "      <th>Trending_Day&amp;Time</th>\n",
       "      <th>Trending_Day</th>\n",
       "      <th>Trending_Time</th>\n",
       "      <th>Trending_Days</th>\n",
       "    </tr>\n",
       "  </thead>\n",
       "  <tbody>\n",
       "    <tr>\n",
       "      <th>0</th>\n",
       "      <td>I left youtube for a month and THIS is what ha...</td>\n",
       "      <td>2020-08-11T16:34:06Z</td>\n",
       "      <td>jacksepticeye</td>\n",
       "      <td>24</td>\n",
       "      <td>2020-08-12T00:00:00Z</td>\n",
       "      <td>jacksepticeye|funny|funny meme|memes|jacksepti...</td>\n",
       "      <td>2038853</td>\n",
       "      <td>353790</td>\n",
       "      <td>40228</td>\n",
       "      <td>False</td>\n",
       "      <td>...</td>\n",
       "      <td>16:34:06Z</td>\n",
       "      <td>2020</td>\n",
       "      <td>8</td>\n",
       "      <td>11</td>\n",
       "      <td>2020</td>\n",
       "      <td>8</td>\n",
       "      <td>12T00:00:00Z</td>\n",
       "      <td>12</td>\n",
       "      <td>00:00:00Z</td>\n",
       "      <td>1</td>\n",
       "    </tr>\n",
       "    <tr>\n",
       "      <th>1</th>\n",
       "      <td>TAXI CAB SLAYER KILLS 'TO KNOW HOW IT FEELS'</td>\n",
       "      <td>2020-08-11T20:00:45Z</td>\n",
       "      <td>Eleanor Neale</td>\n",
       "      <td>27</td>\n",
       "      <td>2020-08-12T00:00:00Z</td>\n",
       "      <td>eleanor|neale|eleanor neale|eleanor neale true...</td>\n",
       "      <td>236830</td>\n",
       "      <td>16423</td>\n",
       "      <td>1642</td>\n",
       "      <td>False</td>\n",
       "      <td>...</td>\n",
       "      <td>20:00:45Z</td>\n",
       "      <td>2020</td>\n",
       "      <td>8</td>\n",
       "      <td>11</td>\n",
       "      <td>2020</td>\n",
       "      <td>8</td>\n",
       "      <td>12T00:00:00Z</td>\n",
       "      <td>12</td>\n",
       "      <td>00:00:00Z</td>\n",
       "      <td>1</td>\n",
       "    </tr>\n",
       "    <tr>\n",
       "      <th>2</th>\n",
       "      <td>Apex Legends | Stories from the Outlands – “Th...</td>\n",
       "      <td>2020-08-11T17:00:10Z</td>\n",
       "      <td>Apex Legends</td>\n",
       "      <td>20</td>\n",
       "      <td>2020-08-12T00:00:00Z</td>\n",
       "      <td>Apex Legends|Apex Legends characters|new Apex ...</td>\n",
       "      <td>2381688</td>\n",
       "      <td>146739</td>\n",
       "      <td>16549</td>\n",
       "      <td>False</td>\n",
       "      <td>...</td>\n",
       "      <td>17:00:10Z</td>\n",
       "      <td>2020</td>\n",
       "      <td>8</td>\n",
       "      <td>11</td>\n",
       "      <td>2020</td>\n",
       "      <td>8</td>\n",
       "      <td>12T00:00:00Z</td>\n",
       "      <td>12</td>\n",
       "      <td>00:00:00Z</td>\n",
       "      <td>1</td>\n",
       "    </tr>\n",
       "    <tr>\n",
       "      <th>3</th>\n",
       "      <td>Nines - Clout (Official Video)</td>\n",
       "      <td>2020-08-10T18:30:28Z</td>\n",
       "      <td>Nines</td>\n",
       "      <td>24</td>\n",
       "      <td>2020-08-12T00:00:00Z</td>\n",
       "      <td>Nines|Trapper of the year|Crop Circle|Nines Tr...</td>\n",
       "      <td>613785</td>\n",
       "      <td>37567</td>\n",
       "      <td>2101</td>\n",
       "      <td>False</td>\n",
       "      <td>...</td>\n",
       "      <td>18:30:28Z</td>\n",
       "      <td>2020</td>\n",
       "      <td>8</td>\n",
       "      <td>10</td>\n",
       "      <td>2020</td>\n",
       "      <td>8</td>\n",
       "      <td>12T00:00:00Z</td>\n",
       "      <td>12</td>\n",
       "      <td>00:00:00Z</td>\n",
       "      <td>2</td>\n",
       "    </tr>\n",
       "    <tr>\n",
       "      <th>4</th>\n",
       "      <td>i don't know what im doing anymore</td>\n",
       "      <td>2020-08-11T20:24:34Z</td>\n",
       "      <td>CaseyNeistat</td>\n",
       "      <td>22</td>\n",
       "      <td>2020-08-12T00:00:00Z</td>\n",
       "      <td>[None]</td>\n",
       "      <td>940036</td>\n",
       "      <td>87113</td>\n",
       "      <td>7052</td>\n",
       "      <td>False</td>\n",
       "      <td>...</td>\n",
       "      <td>20:24:34Z</td>\n",
       "      <td>2020</td>\n",
       "      <td>8</td>\n",
       "      <td>11</td>\n",
       "      <td>2020</td>\n",
       "      <td>8</td>\n",
       "      <td>12T00:00:00Z</td>\n",
       "      <td>12</td>\n",
       "      <td>00:00:00Z</td>\n",
       "      <td>1</td>\n",
       "    </tr>\n",
       "  </tbody>\n",
       "</table>\n",
       "<p>5 rows × 22 columns</p>\n",
       "</div>"
      ],
      "text/plain": [
       "                                               title           publishedAt  \\\n",
       "0  I left youtube for a month and THIS is what ha...  2020-08-11T16:34:06Z   \n",
       "1       TAXI CAB SLAYER KILLS 'TO KNOW HOW IT FEELS'  2020-08-11T20:00:45Z   \n",
       "2  Apex Legends | Stories from the Outlands – “Th...  2020-08-11T17:00:10Z   \n",
       "3                     Nines - Clout (Official Video)  2020-08-10T18:30:28Z   \n",
       "4                 i don't know what im doing anymore  2020-08-11T20:24:34Z   \n",
       "\n",
       "    channelTitle  categoryId         trending_date  \\\n",
       "0  jacksepticeye          24  2020-08-12T00:00:00Z   \n",
       "1  Eleanor Neale          27  2020-08-12T00:00:00Z   \n",
       "2   Apex Legends          20  2020-08-12T00:00:00Z   \n",
       "3          Nines          24  2020-08-12T00:00:00Z   \n",
       "4   CaseyNeistat          22  2020-08-12T00:00:00Z   \n",
       "\n",
       "                                                tags  view_count   likes  \\\n",
       "0  jacksepticeye|funny|funny meme|memes|jacksepti...     2038853  353790   \n",
       "1  eleanor|neale|eleanor neale|eleanor neale true...      236830   16423   \n",
       "2  Apex Legends|Apex Legends characters|new Apex ...     2381688  146739   \n",
       "3  Nines|Trapper of the year|Crop Circle|Nines Tr...      613785   37567   \n",
       "4                                             [None]      940036   87113   \n",
       "\n",
       "   comment_count  comments_disabled  ...       Time  Year Month  Day  \\\n",
       "0          40228              False  ...  16:34:06Z  2020     8   11   \n",
       "1           1642              False  ...  20:00:45Z  2020     8   11   \n",
       "2          16549              False  ...  17:00:10Z  2020     8   11   \n",
       "3           2101              False  ...  18:30:28Z  2020     8   10   \n",
       "4           7052              False  ...  20:24:34Z  2020     8   11   \n",
       "\n",
       "   Trending_Year  Trending_Month  Trending_Day&Time  Trending_Day  \\\n",
       "0           2020               8       12T00:00:00Z            12   \n",
       "1           2020               8       12T00:00:00Z            12   \n",
       "2           2020               8       12T00:00:00Z            12   \n",
       "3           2020               8       12T00:00:00Z            12   \n",
       "4           2020               8       12T00:00:00Z            12   \n",
       "\n",
       "  Trending_Time  Trending_Days  \n",
       "0     00:00:00Z              1  \n",
       "1     00:00:00Z              1  \n",
       "2     00:00:00Z              1  \n",
       "3     00:00:00Z              2  \n",
       "4     00:00:00Z              1  \n",
       "\n",
       "[5 rows x 22 columns]"
      ]
     },
     "execution_count": 29,
     "metadata": {},
     "output_type": "execute_result"
    }
   ],
   "source": [
    "df.head(5)"
   ]
  },
  {
   "cell_type": "raw",
   "id": "807aa201",
   "metadata": {},
   "source": [
    "from sklearn.preprocessing import OneHotEncoder\n",
    "\n",
    "ohe = OneHotEncoder()\n",
    "X = ohe.fit_transform(df[['comments_disabled']]).toarray()"
   ]
  },
  {
   "cell_type": "code",
   "execution_count": 39,
   "id": "365cdff1",
   "metadata": {},
   "outputs": [],
   "source": [
    "#df = pd.get_dummies(df, columns=['comments_disabled'])\n",
    "df['comments_disabled'] = df['comments_disabled'].astype(int)\n"
   ]
  },
  {
   "cell_type": "code",
   "execution_count": 40,
   "id": "adce353e",
   "metadata": {},
   "outputs": [],
   "source": [
    "df['ratings_disabled'] = df['ratings_disabled'].astype(int)"
   ]
  },
  {
   "cell_type": "code",
   "execution_count": 4,
   "id": "cac492c3",
   "metadata": {},
   "outputs": [],
   "source": [
    "df.to_csv('NON-T.csv', index=False)"
   ]
  },
  {
   "cell_type": "code",
   "execution_count": null,
   "id": "13694481",
   "metadata": {},
   "outputs": [],
   "source": []
  },
  {
   "cell_type": "code",
   "execution_count": null,
   "id": "02e0b3b1",
   "metadata": {},
   "outputs": [],
   "source": []
  },
  {
   "cell_type": "code",
   "execution_count": null,
   "id": "49fdf9e2",
   "metadata": {},
   "outputs": [],
   "source": []
  },
  {
   "cell_type": "code",
   "execution_count": null,
   "id": "c2de8a8b",
   "metadata": {},
   "outputs": [],
   "source": []
  },
  {
   "cell_type": "code",
   "execution_count": 25,
   "id": "cedf660f",
   "metadata": {},
   "outputs": [],
   "source": [
    "df.to_csv('Project Data.csv')"
   ]
  },
  {
   "cell_type": "code",
   "execution_count": 12,
   "id": "1b2fdfbc",
   "metadata": {},
   "outputs": [],
   "source": [
    "import pyspark"
   ]
  },
  {
   "cell_type": "code",
   "execution_count": 15,
   "id": "5cd883a1",
   "metadata": {},
   "outputs": [],
   "source": [
    "from pyspark.sql import SparkSession\n",
    "from pyspark import SparkContext, SparkConf"
   ]
  },
  {
   "cell_type": "code",
   "execution_count": 16,
   "id": "3fef147a",
   "metadata": {},
   "outputs": [
    {
     "ename": "AttributeError",
     "evalue": "'SparkSession' object has no attribute 'config'",
     "output_type": "error",
     "traceback": [
      "\u001b[1;31m---------------------------------------------------------------------------\u001b[0m",
      "\u001b[1;31mAttributeError\u001b[0m                            Traceback (most recent call last)",
      "\u001b[1;32m~\\AppData\\Local\\Temp\\ipykernel_6340\\1778765719.py\u001b[0m in \u001b[0;36m<module>\u001b[1;34m\u001b[0m\n\u001b[1;32m----> 1\u001b[1;33m \u001b[0mspark\u001b[0m\u001b[1;33m=\u001b[0m\u001b[0mSparkSession\u001b[0m\u001b[1;33m.\u001b[0m\u001b[0mbuilder\u001b[0m\u001b[1;33m.\u001b[0m\u001b[0mappName\u001b[0m\u001b[1;33m(\u001b[0m\u001b[1;34m'Project'\u001b[0m\u001b[1;33m)\u001b[0m\u001b[1;33m.\u001b[0m\u001b[0mgetOrCreate\u001b[0m\u001b[1;33m(\u001b[0m\u001b[1;33m)\u001b[0m\u001b[1;33m.\u001b[0m\u001b[0mconfig\u001b[0m\u001b[1;33m(\u001b[0m\u001b[1;34m\"spark.memory.offHeap.enabled\"\u001b[0m\u001b[1;33m,\u001b[0m\u001b[1;34m\"true\"\u001b[0m\u001b[1;33m)\u001b[0m\u001b[1;33m\u001b[0m\u001b[1;33m\u001b[0m\u001b[0m\n\u001b[0m",
      "\u001b[1;31mAttributeError\u001b[0m: 'SparkSession' object has no attribute 'config'"
     ]
    }
   ],
   "source": [
    "spark=SparkSession.builder.appName('Project').getOrCreate().config(\"spark.memory.offHeap.enabled\",\"true\") "
   ]
  },
  {
   "cell_type": "code",
   "execution_count": 4,
   "id": "d4fb6861",
   "metadata": {},
   "outputs": [
    {
     "data": {
      "text/html": [
       "\n",
       "            <div>\n",
       "                <p><b>SparkSession - in-memory</b></p>\n",
       "                \n",
       "        <div>\n",
       "            <p><b>SparkContext</b></p>\n",
       "\n",
       "            <p><a href=\"http://DESKTOP-TG9LCS8:4040\">Spark UI</a></p>\n",
       "\n",
       "            <dl>\n",
       "              <dt>Version</dt>\n",
       "                <dd><code>v3.1.1</code></dd>\n",
       "              <dt>Master</dt>\n",
       "                <dd><code>local[*]</code></dd>\n",
       "              <dt>AppName</dt>\n",
       "                <dd><code>Project</code></dd>\n",
       "            </dl>\n",
       "        </div>\n",
       "        \n",
       "            </div>\n",
       "        "
      ],
      "text/plain": [
       "<pyspark.sql.session.SparkSession at 0x13c51e1c550>"
      ]
     },
     "execution_count": 4,
     "metadata": {},
     "output_type": "execute_result"
    }
   ],
   "source": [
    "spark"
   ]
  },
  {
   "cell_type": "code",
   "execution_count": 23,
   "id": "d7633eb0",
   "metadata": {},
   "outputs": [],
   "source": [
    "df = spark.read.csv('Project Data.csv', header=True)"
   ]
  },
  {
   "cell_type": "markdown",
   "id": "f93141f2",
   "metadata": {},
   "source": [
    "!pip install pyspark py4j"
   ]
  },
  {
   "cell_type": "code",
   "execution_count": 24,
   "id": "f59eea0e",
   "metadata": {
    "scrolled": true
   },
   "outputs": [
    {
     "name": "stdout",
     "output_type": "stream",
     "text": [
      "+--------------------+--------------------+--------------------+--------------------+-------------------+----------+--------------------+--------------------+----------+------+-------------+-----------------+----------------+--------------------+--------+---------+----+-----+----+-------------+--------------+------------+-----------------+-------------+-------------+\n",
      "|            video_id|               title|         publishedAt|           channelId|       channelTitle|categoryId|       trending_date|                tags|view_count| likes|comment_count|comments_disabled|ratings_disabled|         description|    Date|     Time|Year|Month| Day|Trending_Year|Trending_Month|Trending_Day|Trending_Day&Time|Trending_Time|Trending_Days|\n",
      "+--------------------+--------------------+--------------------+--------------------+-------------------+----------+--------------------+--------------------+----------+------+-------------+-----------------+----------------+--------------------+--------+---------+----+-----+----+-------------+--------------+------------+-----------------+-------------+-------------+\n",
      "|         J78aPJ3VyNs|I left youtube fo...|2020-08-11T16:34:06Z|UCYzPXprvl5Y-Sf0g...|      jacksepticeye|        24|2020-08-12T00:00:00Z|jacksepticeye|fun...|   2038853|353790|        40228|            FALSE|           FALSE|I left youtube fo...|11-08-20|16:34:06Z|2020|    8|  11|         2020|          2020|        2020|     12T00:00:00Z|    00:00:00Z|         2009|\n",
      "|         9nidKH8cM38|TAXI CAB SLAYER K...|2020-08-11T20:00:45Z|UCFMbX7frWZfuWdjA...|      Eleanor Neale|        27|2020-08-12T00:00:00Z|eleanor|neale|ele...|    236830| 16423|         1642|            FALSE|           FALSE|The first 1000 pe...|11-08-20|20:00:45Z|2020|    8|  11|         2020|          2020|        2020|     12T00:00:00Z|    00:00:00Z|         2009|\n",
      "|         M9Pmf9AB4Mo|Apex Legends | St...|2020-08-11T17:00:10Z|UC0ZV6M2THA81QT9h...|       Apex Legends|        20|2020-08-12T00:00:00Z|Apex Legends|Apex...|   2381688|146739|        16549|            FALSE|           FALSE|While running her...|11-08-20|17:00:10Z|2020|    8|  11|         2020|          2020|        2020|     12T00:00:00Z|    00:00:00Z|         2009|\n",
      "|         kgUV1MaD_M8|Nines - Clout (Of...|2020-08-10T18:30:28Z|UCvDkzrj8ZPlBqRd6...|              Nines|        24|2020-08-12T00:00:00Z|Nines|Trapper of ...|    613785| 37567|         2101|            FALSE|           FALSE|Nines - Clout (Of...|10-08-20|18:30:28Z|2020|    8|  10|         2020|          2020|        2020|     12T00:00:00Z|    00:00:00Z|         2010|\n",
      "|         49Z6Mv4_WCA|i don't know what...|2020-08-11T20:24:34Z|UCtinbF-Q-fVthA0q...|       CaseyNeistat|        22|2020-08-12T00:00:00Z|              [None]|    940036| 87113|         7052|            FALSE|           FALSE|ssend love to my ...|11-08-20|20:24:34Z|2020|    8|  11|         2020|          2020|        2020|     12T00:00:00Z|    00:00:00Z|         2009|\n",
      "|         ua4QMFQATco|  CGP Grey was WRONG|2020-08-11T17:15:11Z|UC2C_jShtL725hvbm...|           CGP Grey|        27|2020-08-12T00:00:00Z|cgpgrey|education...|   1050143| 89192|         6455|            FALSE|           FALSE|‣ What Was TEKOI:...|11-08-20|17:15:11Z|2020|    8|  11|         2020|          2020|        2020|     12T00:00:00Z|    00:00:00Z|         2009|\n",
      "|         x-KbnJ9fvJc|Kya Baat Aa : Kar...|2020-08-11T09:00:11Z|UCm9SZAl03Rev9sFw...|     Rehaan Records|        10|2020-08-12T00:00:00Z|              [None]|  11308046|655449|       405146|            FALSE|           FALSE|Singer/Lyrics: Ka...|11-08-20|09:00:11Z|2020|    8|  11|         2020|          2020|        2020|     12T00:00:00Z|    00:00:00Z|         2009|\n",
      "|         3C66w5Z0ixs|I ASKED HER TO BE...|2020-08-11T19:20:14Z|UCvtRTOMP2TqYqu51...|           Brawadis|        22|2020-08-12T00:00:00Z|brawadis|prank|ba...|   1514614|156910|        35313|            FALSE|           FALSE|SUBSCRIBE to BRAW...|    null|     null|null| null|null|         null|          null|        null|             null|         null|         null|\n",
      "| FOLLOW ME ON SOCIAL|                null|                null|                null|               null|      null|                null|                null|      null|  null|         null|             null|            null|                null|    null|     null|null| null|null|         null|          null|        null|             null|         null|         null|\n",
      "|▶ Twitter: https:...|                null|                null|                null|               null|      null|                null|                null|      null|  null|         null|             null|            null|                null|    null|     null|null| null|null|         null|          null|        null|             null|         null|         null|\n",
      "|▶ Instagram: http...|                null|                null|                null|               null|      null|                null|                null|      null|  null|         null|             null|            null|                null|    null|     null|null| null|null|         null|          null|        null|             null|         null|         null|\n",
      "|▶ Snapchat: brawadis|                null|                null|                null|               null|      null|                null|                null|      null|  null|         null|             null|            null|                null|    null|     null|null| null|null|         null|          null|        null|             null|         null|         null|\n",
      "|Hi! I’m Brandon A...|              pranks|           reactions| challenges and b...|           11-08-20| 19:20:14Z|                2020|                   8|        11|  2020|         2020|             2020|    12T00:00:00Z|           00:00:00Z|    2009|     null|null| null|null|         null|          null|        null|             null|         null|         null|\n",
      "|         ZNfeMbO_AHo|Popek ft. Dr Alba...|2020-08-12T10:00:09Z|UC8Mh9UmrIaQPEcyb...|      KrólAlbaniiTV|        24|2020-08-12T00:00:00Z|              [None]|    277506| 27420|         1268|            FALSE|           FALSE|Nowa wersja kulto...|12-08-20|10:00:09Z|2020|    8|  12|         2020|          2020|        2020|     12T00:00:00Z|    00:00:00Z|         2008|\n",
      "|         VIUo6yapDbc|Ultimate DIY Home...|2020-08-11T15:10:05Z|UCDVPcEbVLQgLZX0R...|           Mr. Kate|        26|2020-08-12T00:00:00Z|The LaBrant Famil...|   1123889| 45803|         2198|            FALSE|           FALSE|Transforming The ...|11-08-20|15:10:05Z|2020|    8|  11|         2020|          2020|        2020|     12T00:00:00Z|    00:00:00Z|         2009|\n",
      "|         pAEa5BnAUgQ|Champions League ...|2020-08-11T16:00:11Z|UC2-0sEOYbQFuaURd...|OneFootball English|        17|2020-08-12T00:00:00Z|Football|Soccer|O...|    210345| 12221|          635|            FALSE|           FALSE|The OneFootball x...|    null|     null|null| null|null|         null|          null|        null|             null|         null|         null|\n",
      "|► Liked it a lot?...|                null|                null|                null|               null|      null|                null|                null|      null|  null|         null|             null|            null|                null|    null|     null|null| null|null|         null|          null|        null|             null|         null|         null|\n",
      "|Onefootball is th...| Android and Wind...|                null|                null|               null|      null|                null|                null|      null|  null|         null|             null|            null|                null|    null|     null|null| null|null|         null|          null|        null|             null|         null|         null|\n",
      "|► Check our websi...|                null|                null|                null|               null|      null|                null|                null|      null|  null|         null|             null|            null|                null|    null|     null|null| null|null|         null|          null|        null|             null|         null|         null|\n",
      "|► Like us on Face...|                null|                null|                null|               null|      null|                null|                null|      null|  null|         null|             null|            null|                null|    null|     null|null| null|null|         null|          null|        null|             null|         null|         null|\n",
      "+--------------------+--------------------+--------------------+--------------------+-------------------+----------+--------------------+--------------------+----------+------+-------------+-----------------+----------------+--------------------+--------+---------+----+-----+----+-------------+--------------+------------+-----------------+-------------+-------------+\n",
      "only showing top 20 rows\n",
      "\n"
     ]
    }
   ],
   "source": [
    "df.show()"
   ]
  },
  {
   "cell_type": "code",
   "execution_count": 7,
   "id": "351ce6d6",
   "metadata": {},
   "outputs": [],
   "source": [
    " #spark.read.option('header','true').csv('Project Data.csv').show()\n",
    "df = spark.read.option('header','true').csv('Project Data.csv')"
   ]
  },
  {
   "cell_type": "code",
   "execution_count": 8,
   "id": "a54de951",
   "metadata": {},
   "outputs": [
    {
     "data": {
      "text/plain": [
       "pyspark.sql.dataframe.DataFrame"
      ]
     },
     "execution_count": 8,
     "metadata": {},
     "output_type": "execute_result"
    }
   ],
   "source": [
    "type(df)"
   ]
  },
  {
   "cell_type": "code",
   "execution_count": 9,
   "id": "9f3a1b58",
   "metadata": {},
   "outputs": [
    {
     "name": "stdout",
     "output_type": "stream",
     "text": [
      "root\n",
      " |-- video_id: string (nullable = true)\n",
      " |-- title: string (nullable = true)\n",
      " |-- publishedAt: string (nullable = true)\n",
      " |-- channelId: string (nullable = true)\n",
      " |-- channelTitle: string (nullable = true)\n",
      " |-- categoryId: string (nullable = true)\n",
      " |-- trending_date: string (nullable = true)\n",
      " |-- tags: string (nullable = true)\n",
      " |-- view_count: string (nullable = true)\n",
      " |-- likes: string (nullable = true)\n",
      " |-- comment_count: string (nullable = true)\n",
      " |-- comments_disabled: string (nullable = true)\n",
      " |-- ratings_disabled: string (nullable = true)\n",
      " |-- description: string (nullable = true)\n",
      " |-- Date: string (nullable = true)\n",
      " |-- Time: string (nullable = true)\n",
      " |-- Year: string (nullable = true)\n",
      " |-- Month: string (nullable = true)\n",
      " |-- Day: string (nullable = true)\n",
      " |-- Trending_Year: string (nullable = true)\n",
      " |-- Trending_Month: string (nullable = true)\n",
      " |-- Trending_Day: string (nullable = true)\n",
      " |-- Trending_Day&Time: string (nullable = true)\n",
      " |-- Trending_Time: string (nullable = true)\n",
      " |-- Trending_Days: string (nullable = true)\n",
      "\n"
     ]
    }
   ],
   "source": [
    "df.printSchema() #same as df.info()"
   ]
  },
  {
   "cell_type": "raw",
   "id": "7419dc20",
   "metadata": {},
   "source": [
    "->PySpark Dataframe\n",
    "->Reading the Dataset\n",
    "->Checking the Datatypes of the Column(Schema)\n",
    "->Selecting Columns and Indexing\n",
    "->Check Describe option similar to Pandas\n",
    "->Adding Columns\n",
    "->Dropping columns"
   ]
  },
  {
   "cell_type": "code",
   "execution_count": 20,
   "id": "52e85be9",
   "metadata": {
    "scrolled": true
   },
   "outputs": [
    {
     "name": "stdout",
     "output_type": "stream",
     "text": [
      "+-------+--------------------+--------------------+------------------+--------------------+-----------------------+--------------------+------------------+----------------------+--------------------+------------------+-----------------+--------------------+--------------------+--------------------+--------------------+------------------+--------------------+-----------------+--------------------+------------------+--------------------+--------------------+------------------+--------------------+------------------+\n",
      "|summary|            video_id|               title|       publishedAt|           channelId|           channelTitle|          categoryId|     trending_date|                  tags|          view_count|             likes|    comment_count|   comments_disabled|    ratings_disabled|         description|                Date|              Time|                Year|            Month|                 Day|     Trending_Year|      Trending_Month|        Trending_Day| Trending_Day&Time|       Trending_Time|     Trending_Days|\n",
      "+-------+--------------------+--------------------+------------------+--------------------+-----------------------+--------------------+------------------+----------------------+--------------------+------------------+-----------------+--------------------+--------------------+--------------------+--------------------+------------------+--------------------+-----------------+--------------------+------------------+--------------------+--------------------+------------------+--------------------+------------------+\n",
      "|  count|              288432|              194412|            192029|              190804|                 190437|              190100|            189930|                189777|              189640|            189547|           189444|              189368|              179697|              175060|              166434|            166032|              165895|           165314|              165232|            165144|              165095|              165076|            165060|              165043|            165031|\n",
      "|   mean|             25851.1|  203681.25531914894| 20133.31818181818|    2021.00144837575|     124.82779839812463|  23.079097460608516|1844.1443898890707|  2.7889894163527036E9|    2078970.17650831|116864.14158906678| 8997.65779867876|  1974.6676406135866|  1836.0378096479792|  1910.8818105616094|        1934.8265625|1837.0501567398119|  2020.8745545690645|8.542385719133259|   17.36638168697475|2021.0331210499846|   2020.585709696775|  2020.6378123143693|1775.5420560747664|  1643.7156862745098|2005.4605410713527|\n",
      "| stddev|  21456.751414543567|   334603.3287745661|28847.004924354074|  35.699585741476895|      472.2386050799192|   90.11576482466157| 570.4184347939928|  1.316862906166761...|   5682985.418670888| 358720.1226634193|70410.21092959985|  250.14510814053486|    571.830316754185|   446.9068210008903|   387.0509417779539|  568.235764686493|  26.611223088611787|54.95195291320531|   59.83350686344759|22.768353771599376|  37.751461024811654|  36.331451989977325| 655.5922898975333|   786.9384891413678|23.102609687361703|\n",
      "|    min|    [Step #1] Wat...|                    |                  |         William Leu|          1000cm x 52cm|                    |     & Bodenschatz|  \bStrictly Come Da...| & Mastered by Ga...|                 4|           & more| 430 (2020). http...|                   7|                   8| 1804 (Hymenopter...|        Alex Pavek| Andrew V. 2014. ...|   2019; Tom Polo|              Archie|           Beyonce| Adrian A. and Su...| Andrew V. 2018. ...|          & Bailey| A.A. 2019.  Prey...|         211–222.\"|\n",
      "|    max|          🦋SOCIAL  |🦝Raccoon Powers ...| ” Univ. of Alaska|” “Skyscraper”) a...|픽보이 - Peakboy Off...|” “The Hunger Gam...|    ” “The Mummy”)|효린|HYOLYN|Sistar|...|” “Trinkets”) as ...|             99999|        ” “Ramy”)|                TRUE| https://doi.org/...|🩸LET’S EAT🩸Sink...|        31T00:00:00Z|    2010; and Nell| The ghost who wa...|                9| no time to be te...|            2017. |                   9|                   7|      31T00:00:00Z|                   9|                 5|\n",
      "+-------+--------------------+--------------------+------------------+--------------------+-----------------------+--------------------+------------------+----------------------+--------------------+------------------+-----------------+--------------------+--------------------+--------------------+--------------------+------------------+--------------------+-----------------+--------------------+------------------+--------------------+--------------------+------------------+--------------------+------------------+\n",
      "\n"
     ]
    }
   ],
   "source": [
    "#describes the mean std etc.\n",
    "df.describe().show()"
   ]
  },
  {
   "cell_type": "code",
   "execution_count": 18,
   "id": "df7864cc",
   "metadata": {
    "scrolled": true
   },
   "outputs": [
    {
     "ename": "Py4JJavaError",
     "evalue": "An error occurred while calling o86.json.\n: java.lang.NoSuchMethodError: org.json4s.JsonDSL$.pair2Assoc(Lscala/Tuple2;Lscala/Function1;)Lorg/json4s/JsonDSL$JsonAssoc;\r\n\tat org.apache.spark.sql.types.StructType.jsonValue(StructType.scala:411)\r\n\tat org.apache.spark.sql.types.StructType.jsonValue(StructType.scala:102)\r\n\tat org.apache.spark.sql.types.DataType.json(DataType.scala:76)\r\n\tat sun.reflect.NativeMethodAccessorImpl.invoke0(Native Method)\r\n\tat sun.reflect.NativeMethodAccessorImpl.invoke(NativeMethodAccessorImpl.java:62)\r\n\tat sun.reflect.DelegatingMethodAccessorImpl.invoke(DelegatingMethodAccessorImpl.java:43)\r\n\tat java.lang.reflect.Method.invoke(Method.java:498)\r\n\tat py4j.reflection.MethodInvoker.invoke(MethodInvoker.java:244)\r\n\tat py4j.reflection.ReflectionEngine.invoke(ReflectionEngine.java:357)\r\n\tat py4j.Gateway.invoke(Gateway.java:282)\r\n\tat py4j.commands.AbstractCommand.invokeMethod(AbstractCommand.java:132)\r\n\tat py4j.commands.CallCommand.execute(CallCommand.java:79)\r\n\tat py4j.GatewayConnection.run(GatewayConnection.java:238)\r\n\tat java.lang.Thread.run(Thread.java:748)\r\n",
     "output_type": "error",
     "traceback": [
      "\u001b[1;31m---------------------------------------------------------------------------\u001b[0m",
      "\u001b[1;31mPy4JJavaError\u001b[0m                             Traceback (most recent call last)",
      "\u001b[1;32m~\\anaconda3\\lib\\site-packages\\IPython\\core\\formatters.py\u001b[0m in \u001b[0;36m__call__\u001b[1;34m(self, obj)\u001b[0m\n\u001b[0;32m    700\u001b[0m                 \u001b[0mtype_pprinters\u001b[0m\u001b[1;33m=\u001b[0m\u001b[0mself\u001b[0m\u001b[1;33m.\u001b[0m\u001b[0mtype_printers\u001b[0m\u001b[1;33m,\u001b[0m\u001b[1;33m\u001b[0m\u001b[1;33m\u001b[0m\u001b[0m\n\u001b[0;32m    701\u001b[0m                 deferred_pprinters=self.deferred_printers)\n\u001b[1;32m--> 702\u001b[1;33m             \u001b[0mprinter\u001b[0m\u001b[1;33m.\u001b[0m\u001b[0mpretty\u001b[0m\u001b[1;33m(\u001b[0m\u001b[0mobj\u001b[0m\u001b[1;33m)\u001b[0m\u001b[1;33m\u001b[0m\u001b[1;33m\u001b[0m\u001b[0m\n\u001b[0m\u001b[0;32m    703\u001b[0m             \u001b[0mprinter\u001b[0m\u001b[1;33m.\u001b[0m\u001b[0mflush\u001b[0m\u001b[1;33m(\u001b[0m\u001b[1;33m)\u001b[0m\u001b[1;33m\u001b[0m\u001b[1;33m\u001b[0m\u001b[0m\n\u001b[0;32m    704\u001b[0m             \u001b[1;32mreturn\u001b[0m \u001b[0mstream\u001b[0m\u001b[1;33m.\u001b[0m\u001b[0mgetvalue\u001b[0m\u001b[1;33m(\u001b[0m\u001b[1;33m)\u001b[0m\u001b[1;33m\u001b[0m\u001b[1;33m\u001b[0m\u001b[0m\n",
      "\u001b[1;32m~\\anaconda3\\lib\\site-packages\\IPython\\lib\\pretty.py\u001b[0m in \u001b[0;36mpretty\u001b[1;34m(self, obj)\u001b[0m\n\u001b[0;32m    392\u001b[0m                         \u001b[1;32mif\u001b[0m \u001b[0mcls\u001b[0m \u001b[1;32mis\u001b[0m \u001b[1;32mnot\u001b[0m \u001b[0mobject\u001b[0m\u001b[0;31m \u001b[0m\u001b[0;31m\\\u001b[0m\u001b[1;33m\u001b[0m\u001b[1;33m\u001b[0m\u001b[0m\n\u001b[0;32m    393\u001b[0m                                 \u001b[1;32mand\u001b[0m \u001b[0mcallable\u001b[0m\u001b[1;33m(\u001b[0m\u001b[0mcls\u001b[0m\u001b[1;33m.\u001b[0m\u001b[0m__dict__\u001b[0m\u001b[1;33m.\u001b[0m\u001b[0mget\u001b[0m\u001b[1;33m(\u001b[0m\u001b[1;34m'__repr__'\u001b[0m\u001b[1;33m)\u001b[0m\u001b[1;33m)\u001b[0m\u001b[1;33m:\u001b[0m\u001b[1;33m\u001b[0m\u001b[1;33m\u001b[0m\u001b[0m\n\u001b[1;32m--> 394\u001b[1;33m                             \u001b[1;32mreturn\u001b[0m \u001b[0m_repr_pprint\u001b[0m\u001b[1;33m(\u001b[0m\u001b[0mobj\u001b[0m\u001b[1;33m,\u001b[0m \u001b[0mself\u001b[0m\u001b[1;33m,\u001b[0m \u001b[0mcycle\u001b[0m\u001b[1;33m)\u001b[0m\u001b[1;33m\u001b[0m\u001b[1;33m\u001b[0m\u001b[0m\n\u001b[0m\u001b[0;32m    395\u001b[0m \u001b[1;33m\u001b[0m\u001b[0m\n\u001b[0;32m    396\u001b[0m             \u001b[1;32mreturn\u001b[0m \u001b[0m_default_pprint\u001b[0m\u001b[1;33m(\u001b[0m\u001b[0mobj\u001b[0m\u001b[1;33m,\u001b[0m \u001b[0mself\u001b[0m\u001b[1;33m,\u001b[0m \u001b[0mcycle\u001b[0m\u001b[1;33m)\u001b[0m\u001b[1;33m\u001b[0m\u001b[1;33m\u001b[0m\u001b[0m\n",
      "\u001b[1;32m~\\anaconda3\\lib\\site-packages\\IPython\\lib\\pretty.py\u001b[0m in \u001b[0;36m_repr_pprint\u001b[1;34m(obj, p, cycle)\u001b[0m\n\u001b[0;32m    698\u001b[0m     \u001b[1;34m\"\"\"A pprint that just redirects to the normal repr function.\"\"\"\u001b[0m\u001b[1;33m\u001b[0m\u001b[1;33m\u001b[0m\u001b[0m\n\u001b[0;32m    699\u001b[0m     \u001b[1;31m# Find newlines and replace them with p.break_()\u001b[0m\u001b[1;33m\u001b[0m\u001b[1;33m\u001b[0m\u001b[0m\n\u001b[1;32m--> 700\u001b[1;33m     \u001b[0moutput\u001b[0m \u001b[1;33m=\u001b[0m \u001b[0mrepr\u001b[0m\u001b[1;33m(\u001b[0m\u001b[0mobj\u001b[0m\u001b[1;33m)\u001b[0m\u001b[1;33m\u001b[0m\u001b[1;33m\u001b[0m\u001b[0m\n\u001b[0m\u001b[0;32m    701\u001b[0m     \u001b[0mlines\u001b[0m \u001b[1;33m=\u001b[0m \u001b[0moutput\u001b[0m\u001b[1;33m.\u001b[0m\u001b[0msplitlines\u001b[0m\u001b[1;33m(\u001b[0m\u001b[1;33m)\u001b[0m\u001b[1;33m\u001b[0m\u001b[1;33m\u001b[0m\u001b[0m\n\u001b[0;32m    702\u001b[0m     \u001b[1;32mwith\u001b[0m \u001b[0mp\u001b[0m\u001b[1;33m.\u001b[0m\u001b[0mgroup\u001b[0m\u001b[1;33m(\u001b[0m\u001b[1;33m)\u001b[0m\u001b[1;33m:\u001b[0m\u001b[1;33m\u001b[0m\u001b[1;33m\u001b[0m\u001b[0m\n",
      "\u001b[1;32m~\\anaconda3\\lib\\site-packages\\pyspark\\sql\\dataframe.py\u001b[0m in \u001b[0;36m__repr__\u001b[1;34m(self)\u001b[0m\n\u001b[0;32m    493\u001b[0m                 self.sql_ctx._conf.replEagerEvalTruncate(), vertical)\n\u001b[0;32m    494\u001b[0m         \u001b[1;32melse\u001b[0m\u001b[1;33m:\u001b[0m\u001b[1;33m\u001b[0m\u001b[1;33m\u001b[0m\u001b[0m\n\u001b[1;32m--> 495\u001b[1;33m             \u001b[1;32mreturn\u001b[0m \u001b[1;34m\"DataFrame[%s]\"\u001b[0m \u001b[1;33m%\u001b[0m \u001b[1;33m(\u001b[0m\u001b[1;34m\", \"\u001b[0m\u001b[1;33m.\u001b[0m\u001b[0mjoin\u001b[0m\u001b[1;33m(\u001b[0m\u001b[1;34m\"%s: %s\"\u001b[0m \u001b[1;33m%\u001b[0m \u001b[0mc\u001b[0m \u001b[1;32mfor\u001b[0m \u001b[0mc\u001b[0m \u001b[1;32min\u001b[0m \u001b[0mself\u001b[0m\u001b[1;33m.\u001b[0m\u001b[0mdtypes\u001b[0m\u001b[1;33m)\u001b[0m\u001b[1;33m)\u001b[0m\u001b[1;33m\u001b[0m\u001b[1;33m\u001b[0m\u001b[0m\n\u001b[0m\u001b[0;32m    496\u001b[0m \u001b[1;33m\u001b[0m\u001b[0m\n\u001b[0;32m    497\u001b[0m     \u001b[1;32mdef\u001b[0m \u001b[0m_repr_html_\u001b[0m\u001b[1;33m(\u001b[0m\u001b[0mself\u001b[0m\u001b[1;33m)\u001b[0m\u001b[1;33m:\u001b[0m\u001b[1;33m\u001b[0m\u001b[1;33m\u001b[0m\u001b[0m\n",
      "\u001b[1;32m~\\anaconda3\\lib\\site-packages\\pyspark\\sql\\dataframe.py\u001b[0m in \u001b[0;36mdtypes\u001b[1;34m(self)\u001b[0m\n\u001b[0;32m   1184\u001b[0m         \u001b[1;33m[\u001b[0m\u001b[1;33m(\u001b[0m\u001b[1;34m'age'\u001b[0m\u001b[1;33m,\u001b[0m \u001b[1;34m'int'\u001b[0m\u001b[1;33m)\u001b[0m\u001b[1;33m,\u001b[0m \u001b[1;33m(\u001b[0m\u001b[1;34m'name'\u001b[0m\u001b[1;33m,\u001b[0m \u001b[1;34m'string'\u001b[0m\u001b[1;33m)\u001b[0m\u001b[1;33m]\u001b[0m\u001b[1;33m\u001b[0m\u001b[1;33m\u001b[0m\u001b[0m\n\u001b[0;32m   1185\u001b[0m         \"\"\"\n\u001b[1;32m-> 1186\u001b[1;33m         \u001b[1;32mreturn\u001b[0m \u001b[1;33m[\u001b[0m\u001b[1;33m(\u001b[0m\u001b[0mstr\u001b[0m\u001b[1;33m(\u001b[0m\u001b[0mf\u001b[0m\u001b[1;33m.\u001b[0m\u001b[0mname\u001b[0m\u001b[1;33m)\u001b[0m\u001b[1;33m,\u001b[0m \u001b[0mf\u001b[0m\u001b[1;33m.\u001b[0m\u001b[0mdataType\u001b[0m\u001b[1;33m.\u001b[0m\u001b[0msimpleString\u001b[0m\u001b[1;33m(\u001b[0m\u001b[1;33m)\u001b[0m\u001b[1;33m)\u001b[0m \u001b[1;32mfor\u001b[0m \u001b[0mf\u001b[0m \u001b[1;32min\u001b[0m \u001b[0mself\u001b[0m\u001b[1;33m.\u001b[0m\u001b[0mschema\u001b[0m\u001b[1;33m.\u001b[0m\u001b[0mfields\u001b[0m\u001b[1;33m]\u001b[0m\u001b[1;33m\u001b[0m\u001b[1;33m\u001b[0m\u001b[0m\n\u001b[0m\u001b[0;32m   1187\u001b[0m \u001b[1;33m\u001b[0m\u001b[0m\n\u001b[0;32m   1188\u001b[0m     \u001b[1;33m@\u001b[0m\u001b[0mproperty\u001b[0m\u001b[1;33m\u001b[0m\u001b[1;33m\u001b[0m\u001b[0m\n",
      "\u001b[1;32m~\\anaconda3\\lib\\site-packages\\pyspark\\sql\\dataframe.py\u001b[0m in \u001b[0;36mschema\u001b[1;34m(self)\u001b[0m\n\u001b[0;32m    274\u001b[0m         \u001b[1;32mif\u001b[0m \u001b[0mself\u001b[0m\u001b[1;33m.\u001b[0m\u001b[0m_schema\u001b[0m \u001b[1;32mis\u001b[0m \u001b[1;32mNone\u001b[0m\u001b[1;33m:\u001b[0m\u001b[1;33m\u001b[0m\u001b[1;33m\u001b[0m\u001b[0m\n\u001b[0;32m    275\u001b[0m             \u001b[1;32mtry\u001b[0m\u001b[1;33m:\u001b[0m\u001b[1;33m\u001b[0m\u001b[1;33m\u001b[0m\u001b[0m\n\u001b[1;32m--> 276\u001b[1;33m                 \u001b[0mself\u001b[0m\u001b[1;33m.\u001b[0m\u001b[0m_schema\u001b[0m \u001b[1;33m=\u001b[0m \u001b[0m_parse_datatype_json_string\u001b[0m\u001b[1;33m(\u001b[0m\u001b[0mself\u001b[0m\u001b[1;33m.\u001b[0m\u001b[0m_jdf\u001b[0m\u001b[1;33m.\u001b[0m\u001b[0mschema\u001b[0m\u001b[1;33m(\u001b[0m\u001b[1;33m)\u001b[0m\u001b[1;33m.\u001b[0m\u001b[0mjson\u001b[0m\u001b[1;33m(\u001b[0m\u001b[1;33m)\u001b[0m\u001b[1;33m)\u001b[0m\u001b[1;33m\u001b[0m\u001b[1;33m\u001b[0m\u001b[0m\n\u001b[0m\u001b[0;32m    277\u001b[0m             \u001b[1;32mexcept\u001b[0m \u001b[0mAttributeError\u001b[0m \u001b[1;32mas\u001b[0m \u001b[0me\u001b[0m\u001b[1;33m:\u001b[0m\u001b[1;33m\u001b[0m\u001b[1;33m\u001b[0m\u001b[0m\n\u001b[0;32m    278\u001b[0m                 raise Exception(\n",
      "\u001b[1;32m~\\anaconda3\\lib\\site-packages\\py4j\\java_gateway.py\u001b[0m in \u001b[0;36m__call__\u001b[1;34m(self, *args)\u001b[0m\n\u001b[0;32m   1302\u001b[0m \u001b[1;33m\u001b[0m\u001b[0m\n\u001b[0;32m   1303\u001b[0m         \u001b[0manswer\u001b[0m \u001b[1;33m=\u001b[0m \u001b[0mself\u001b[0m\u001b[1;33m.\u001b[0m\u001b[0mgateway_client\u001b[0m\u001b[1;33m.\u001b[0m\u001b[0msend_command\u001b[0m\u001b[1;33m(\u001b[0m\u001b[0mcommand\u001b[0m\u001b[1;33m)\u001b[0m\u001b[1;33m\u001b[0m\u001b[1;33m\u001b[0m\u001b[0m\n\u001b[1;32m-> 1304\u001b[1;33m         return_value = get_return_value(\n\u001b[0m\u001b[0;32m   1305\u001b[0m             answer, self.gateway_client, self.target_id, self.name)\n\u001b[0;32m   1306\u001b[0m \u001b[1;33m\u001b[0m\u001b[0m\n",
      "\u001b[1;32m~\\anaconda3\\lib\\site-packages\\pyspark\\sql\\utils.py\u001b[0m in \u001b[0;36mdeco\u001b[1;34m(*a, **kw)\u001b[0m\n\u001b[0;32m    109\u001b[0m     \u001b[1;32mdef\u001b[0m \u001b[0mdeco\u001b[0m\u001b[1;33m(\u001b[0m\u001b[1;33m*\u001b[0m\u001b[0ma\u001b[0m\u001b[1;33m,\u001b[0m \u001b[1;33m**\u001b[0m\u001b[0mkw\u001b[0m\u001b[1;33m)\u001b[0m\u001b[1;33m:\u001b[0m\u001b[1;33m\u001b[0m\u001b[1;33m\u001b[0m\u001b[0m\n\u001b[0;32m    110\u001b[0m         \u001b[1;32mtry\u001b[0m\u001b[1;33m:\u001b[0m\u001b[1;33m\u001b[0m\u001b[1;33m\u001b[0m\u001b[0m\n\u001b[1;32m--> 111\u001b[1;33m             \u001b[1;32mreturn\u001b[0m \u001b[0mf\u001b[0m\u001b[1;33m(\u001b[0m\u001b[1;33m*\u001b[0m\u001b[0ma\u001b[0m\u001b[1;33m,\u001b[0m \u001b[1;33m**\u001b[0m\u001b[0mkw\u001b[0m\u001b[1;33m)\u001b[0m\u001b[1;33m\u001b[0m\u001b[1;33m\u001b[0m\u001b[0m\n\u001b[0m\u001b[0;32m    112\u001b[0m         \u001b[1;32mexcept\u001b[0m \u001b[0mpy4j\u001b[0m\u001b[1;33m.\u001b[0m\u001b[0mprotocol\u001b[0m\u001b[1;33m.\u001b[0m\u001b[0mPy4JJavaError\u001b[0m \u001b[1;32mas\u001b[0m \u001b[0me\u001b[0m\u001b[1;33m:\u001b[0m\u001b[1;33m\u001b[0m\u001b[1;33m\u001b[0m\u001b[0m\n\u001b[0;32m    113\u001b[0m             \u001b[0mconverted\u001b[0m \u001b[1;33m=\u001b[0m \u001b[0mconvert_exception\u001b[0m\u001b[1;33m(\u001b[0m\u001b[0me\u001b[0m\u001b[1;33m.\u001b[0m\u001b[0mjava_exception\u001b[0m\u001b[1;33m)\u001b[0m\u001b[1;33m\u001b[0m\u001b[1;33m\u001b[0m\u001b[0m\n",
      "\u001b[1;32m~\\anaconda3\\lib\\site-packages\\py4j\\protocol.py\u001b[0m in \u001b[0;36mget_return_value\u001b[1;34m(answer, gateway_client, target_id, name)\u001b[0m\n\u001b[0;32m    324\u001b[0m             \u001b[0mvalue\u001b[0m \u001b[1;33m=\u001b[0m \u001b[0mOUTPUT_CONVERTER\u001b[0m\u001b[1;33m[\u001b[0m\u001b[0mtype\u001b[0m\u001b[1;33m]\u001b[0m\u001b[1;33m(\u001b[0m\u001b[0manswer\u001b[0m\u001b[1;33m[\u001b[0m\u001b[1;36m2\u001b[0m\u001b[1;33m:\u001b[0m\u001b[1;33m]\u001b[0m\u001b[1;33m,\u001b[0m \u001b[0mgateway_client\u001b[0m\u001b[1;33m)\u001b[0m\u001b[1;33m\u001b[0m\u001b[1;33m\u001b[0m\u001b[0m\n\u001b[0;32m    325\u001b[0m             \u001b[1;32mif\u001b[0m \u001b[0manswer\u001b[0m\u001b[1;33m[\u001b[0m\u001b[1;36m1\u001b[0m\u001b[1;33m]\u001b[0m \u001b[1;33m==\u001b[0m \u001b[0mREFERENCE_TYPE\u001b[0m\u001b[1;33m:\u001b[0m\u001b[1;33m\u001b[0m\u001b[1;33m\u001b[0m\u001b[0m\n\u001b[1;32m--> 326\u001b[1;33m                 raise Py4JJavaError(\n\u001b[0m\u001b[0;32m    327\u001b[0m                     \u001b[1;34m\"An error occurred while calling {0}{1}{2}.\\n\"\u001b[0m\u001b[1;33m.\u001b[0m\u001b[1;33m\u001b[0m\u001b[1;33m\u001b[0m\u001b[0m\n\u001b[0;32m    328\u001b[0m                     format(target_id, \".\", name), value)\n",
      "\u001b[1;31mPy4JJavaError\u001b[0m: An error occurred while calling o86.json.\n: java.lang.NoSuchMethodError: org.json4s.JsonDSL$.pair2Assoc(Lscala/Tuple2;Lscala/Function1;)Lorg/json4s/JsonDSL$JsonAssoc;\r\n\tat org.apache.spark.sql.types.StructType.jsonValue(StructType.scala:411)\r\n\tat org.apache.spark.sql.types.StructType.jsonValue(StructType.scala:102)\r\n\tat org.apache.spark.sql.types.DataType.json(DataType.scala:76)\r\n\tat sun.reflect.NativeMethodAccessorImpl.invoke0(Native Method)\r\n\tat sun.reflect.NativeMethodAccessorImpl.invoke(NativeMethodAccessorImpl.java:62)\r\n\tat sun.reflect.DelegatingMethodAccessorImpl.invoke(DelegatingMethodAccessorImpl.java:43)\r\n\tat java.lang.reflect.Method.invoke(Method.java:498)\r\n\tat py4j.reflection.MethodInvoker.invoke(MethodInvoker.java:244)\r\n\tat py4j.reflection.ReflectionEngine.invoke(ReflectionEngine.java:357)\r\n\tat py4j.Gateway.invoke(Gateway.java:282)\r\n\tat py4j.commands.AbstractCommand.invokeMethod(AbstractCommand.java:132)\r\n\tat py4j.commands.CallCommand.execute(CallCommand.java:79)\r\n\tat py4j.GatewayConnection.run(GatewayConnection.java:238)\r\n\tat java.lang.Thread.run(Thread.java:748)\r\n"
     ]
    }
   ],
   "source": [
    "df.describe()"
   ]
  },
  {
   "cell_type": "code",
   "execution_count": 21,
   "id": "e03e01ae",
   "metadata": {},
   "outputs": [],
   "source": [
    "#Adding columns in dataframe\n",
    "#add = df.withColumn('Experience',df['experience']+2)\n",
    "#add.show()\n",
    "\n",
    "#Drop a column\n",
    "#drop = df.drop('Experience')\n",
    "#drop.show()\n",
    "\n",
    "#rename a column\n",
    "#df.withColumnRenamed('Name','New Name').show()"
   ]
  },
  {
   "cell_type": "code",
   "execution_count": 25,
   "id": "9bde36c1",
   "metadata": {},
   "outputs": [
    {
     "ename": "Py4JJavaError",
     "evalue": "An error occurred while calling o119.json.\n: java.lang.NoSuchMethodError: org.json4s.JsonDSL$.pair2Assoc(Lscala/Tuple2;Lscala/Function1;)Lorg/json4s/JsonDSL$JsonAssoc;\r\n\tat org.apache.spark.sql.types.StructType.jsonValue(StructType.scala:411)\r\n\tat org.apache.spark.sql.types.StructType.jsonValue(StructType.scala:102)\r\n\tat org.apache.spark.sql.types.DataType.json(DataType.scala:76)\r\n\tat sun.reflect.GeneratedMethodAccessor47.invoke(Unknown Source)\r\n\tat sun.reflect.DelegatingMethodAccessorImpl.invoke(DelegatingMethodAccessorImpl.java:43)\r\n\tat java.lang.reflect.Method.invoke(Method.java:498)\r\n\tat py4j.reflection.MethodInvoker.invoke(MethodInvoker.java:244)\r\n\tat py4j.reflection.ReflectionEngine.invoke(ReflectionEngine.java:357)\r\n\tat py4j.Gateway.invoke(Gateway.java:282)\r\n\tat py4j.commands.AbstractCommand.invokeMethod(AbstractCommand.java:132)\r\n\tat py4j.commands.CallCommand.execute(CallCommand.java:79)\r\n\tat py4j.GatewayConnection.run(GatewayConnection.java:238)\r\n\tat java.lang.Thread.run(Thread.java:748)\r\n",
     "output_type": "error",
     "traceback": [
      "\u001b[1;31m---------------------------------------------------------------------------\u001b[0m",
      "\u001b[1;31mPy4JJavaError\u001b[0m                             Traceback (most recent call last)",
      "\u001b[1;32m~\\AppData\\Local\\Temp\\ipykernel_6340\\3016963099.py\u001b[0m in \u001b[0;36m<module>\u001b[1;34m\u001b[0m\n\u001b[1;32m----> 1\u001b[1;33m \u001b[0mdf\u001b[0m\u001b[1;33m.\u001b[0m\u001b[0mna\u001b[0m\u001b[1;33m.\u001b[0m\u001b[0mdrop\u001b[0m\u001b[1;33m(\u001b[0m\u001b[1;33m)\u001b[0m\u001b[1;33m.\u001b[0m\u001b[0mshow\u001b[0m\u001b[1;33m(\u001b[0m\u001b[1;33m)\u001b[0m\u001b[1;33m\u001b[0m\u001b[1;33m\u001b[0m\u001b[0m\n\u001b[0m",
      "\u001b[1;32m~\\anaconda3\\lib\\site-packages\\pyspark\\sql\\dataframe.py\u001b[0m in \u001b[0;36mdrop\u001b[1;34m(self, how, thresh, subset)\u001b[0m\n\u001b[0;32m   2696\u001b[0m \u001b[1;33m\u001b[0m\u001b[0m\n\u001b[0;32m   2697\u001b[0m     \u001b[1;32mdef\u001b[0m \u001b[0mdrop\u001b[0m\u001b[1;33m(\u001b[0m\u001b[0mself\u001b[0m\u001b[1;33m,\u001b[0m \u001b[0mhow\u001b[0m\u001b[1;33m=\u001b[0m\u001b[1;34m'any'\u001b[0m\u001b[1;33m,\u001b[0m \u001b[0mthresh\u001b[0m\u001b[1;33m=\u001b[0m\u001b[1;32mNone\u001b[0m\u001b[1;33m,\u001b[0m \u001b[0msubset\u001b[0m\u001b[1;33m=\u001b[0m\u001b[1;32mNone\u001b[0m\u001b[1;33m)\u001b[0m\u001b[1;33m:\u001b[0m\u001b[1;33m\u001b[0m\u001b[1;33m\u001b[0m\u001b[0m\n\u001b[1;32m-> 2698\u001b[1;33m         \u001b[1;32mreturn\u001b[0m \u001b[0mself\u001b[0m\u001b[1;33m.\u001b[0m\u001b[0mdf\u001b[0m\u001b[1;33m.\u001b[0m\u001b[0mdropna\u001b[0m\u001b[1;33m(\u001b[0m\u001b[0mhow\u001b[0m\u001b[1;33m=\u001b[0m\u001b[0mhow\u001b[0m\u001b[1;33m,\u001b[0m \u001b[0mthresh\u001b[0m\u001b[1;33m=\u001b[0m\u001b[0mthresh\u001b[0m\u001b[1;33m,\u001b[0m \u001b[0msubset\u001b[0m\u001b[1;33m=\u001b[0m\u001b[0msubset\u001b[0m\u001b[1;33m)\u001b[0m\u001b[1;33m\u001b[0m\u001b[1;33m\u001b[0m\u001b[0m\n\u001b[0m\u001b[0;32m   2699\u001b[0m \u001b[1;33m\u001b[0m\u001b[0m\n\u001b[0;32m   2700\u001b[0m     \u001b[0mdrop\u001b[0m\u001b[1;33m.\u001b[0m\u001b[0m__doc__\u001b[0m \u001b[1;33m=\u001b[0m \u001b[0mDataFrame\u001b[0m\u001b[1;33m.\u001b[0m\u001b[0mdropna\u001b[0m\u001b[1;33m.\u001b[0m\u001b[0m__doc__\u001b[0m\u001b[1;33m\u001b[0m\u001b[1;33m\u001b[0m\u001b[0m\n",
      "\u001b[1;32m~\\anaconda3\\lib\\site-packages\\pyspark\\sql\\dataframe.py\u001b[0m in \u001b[0;36mdropna\u001b[1;34m(self, how, thresh, subset)\u001b[0m\n\u001b[0;32m   2004\u001b[0m \u001b[1;33m\u001b[0m\u001b[0m\n\u001b[0;32m   2005\u001b[0m         \u001b[1;32mif\u001b[0m \u001b[0msubset\u001b[0m \u001b[1;32mis\u001b[0m \u001b[1;32mNone\u001b[0m\u001b[1;33m:\u001b[0m\u001b[1;33m\u001b[0m\u001b[1;33m\u001b[0m\u001b[0m\n\u001b[1;32m-> 2006\u001b[1;33m             \u001b[0msubset\u001b[0m \u001b[1;33m=\u001b[0m \u001b[0mself\u001b[0m\u001b[1;33m.\u001b[0m\u001b[0mcolumns\u001b[0m\u001b[1;33m\u001b[0m\u001b[1;33m\u001b[0m\u001b[0m\n\u001b[0m\u001b[0;32m   2007\u001b[0m         \u001b[1;32melif\u001b[0m \u001b[0misinstance\u001b[0m\u001b[1;33m(\u001b[0m\u001b[0msubset\u001b[0m\u001b[1;33m,\u001b[0m \u001b[0mstr\u001b[0m\u001b[1;33m)\u001b[0m\u001b[1;33m:\u001b[0m\u001b[1;33m\u001b[0m\u001b[1;33m\u001b[0m\u001b[0m\n\u001b[0;32m   2008\u001b[0m             \u001b[0msubset\u001b[0m \u001b[1;33m=\u001b[0m \u001b[1;33m[\u001b[0m\u001b[0msubset\u001b[0m\u001b[1;33m]\u001b[0m\u001b[1;33m\u001b[0m\u001b[1;33m\u001b[0m\u001b[0m\n",
      "\u001b[1;32m~\\anaconda3\\lib\\site-packages\\pyspark\\sql\\dataframe.py\u001b[0m in \u001b[0;36mcolumns\u001b[1;34m(self)\u001b[0m\n\u001b[0;32m   1197\u001b[0m         \u001b[1;33m[\u001b[0m\u001b[1;34m'age'\u001b[0m\u001b[1;33m,\u001b[0m \u001b[1;34m'name'\u001b[0m\u001b[1;33m]\u001b[0m\u001b[1;33m\u001b[0m\u001b[1;33m\u001b[0m\u001b[0m\n\u001b[0;32m   1198\u001b[0m         \"\"\"\n\u001b[1;32m-> 1199\u001b[1;33m         \u001b[1;32mreturn\u001b[0m \u001b[1;33m[\u001b[0m\u001b[0mf\u001b[0m\u001b[1;33m.\u001b[0m\u001b[0mname\u001b[0m \u001b[1;32mfor\u001b[0m \u001b[0mf\u001b[0m \u001b[1;32min\u001b[0m \u001b[0mself\u001b[0m\u001b[1;33m.\u001b[0m\u001b[0mschema\u001b[0m\u001b[1;33m.\u001b[0m\u001b[0mfields\u001b[0m\u001b[1;33m]\u001b[0m\u001b[1;33m\u001b[0m\u001b[1;33m\u001b[0m\u001b[0m\n\u001b[0m\u001b[0;32m   1200\u001b[0m \u001b[1;33m\u001b[0m\u001b[0m\n\u001b[0;32m   1201\u001b[0m     \u001b[1;32mdef\u001b[0m \u001b[0mcolRegex\u001b[0m\u001b[1;33m(\u001b[0m\u001b[0mself\u001b[0m\u001b[1;33m,\u001b[0m \u001b[0mcolName\u001b[0m\u001b[1;33m)\u001b[0m\u001b[1;33m:\u001b[0m\u001b[1;33m\u001b[0m\u001b[1;33m\u001b[0m\u001b[0m\n",
      "\u001b[1;32m~\\anaconda3\\lib\\site-packages\\pyspark\\sql\\dataframe.py\u001b[0m in \u001b[0;36mschema\u001b[1;34m(self)\u001b[0m\n\u001b[0;32m    274\u001b[0m         \u001b[1;32mif\u001b[0m \u001b[0mself\u001b[0m\u001b[1;33m.\u001b[0m\u001b[0m_schema\u001b[0m \u001b[1;32mis\u001b[0m \u001b[1;32mNone\u001b[0m\u001b[1;33m:\u001b[0m\u001b[1;33m\u001b[0m\u001b[1;33m\u001b[0m\u001b[0m\n\u001b[0;32m    275\u001b[0m             \u001b[1;32mtry\u001b[0m\u001b[1;33m:\u001b[0m\u001b[1;33m\u001b[0m\u001b[1;33m\u001b[0m\u001b[0m\n\u001b[1;32m--> 276\u001b[1;33m                 \u001b[0mself\u001b[0m\u001b[1;33m.\u001b[0m\u001b[0m_schema\u001b[0m \u001b[1;33m=\u001b[0m \u001b[0m_parse_datatype_json_string\u001b[0m\u001b[1;33m(\u001b[0m\u001b[0mself\u001b[0m\u001b[1;33m.\u001b[0m\u001b[0m_jdf\u001b[0m\u001b[1;33m.\u001b[0m\u001b[0mschema\u001b[0m\u001b[1;33m(\u001b[0m\u001b[1;33m)\u001b[0m\u001b[1;33m.\u001b[0m\u001b[0mjson\u001b[0m\u001b[1;33m(\u001b[0m\u001b[1;33m)\u001b[0m\u001b[1;33m)\u001b[0m\u001b[1;33m\u001b[0m\u001b[1;33m\u001b[0m\u001b[0m\n\u001b[0m\u001b[0;32m    277\u001b[0m             \u001b[1;32mexcept\u001b[0m \u001b[0mAttributeError\u001b[0m \u001b[1;32mas\u001b[0m \u001b[0me\u001b[0m\u001b[1;33m:\u001b[0m\u001b[1;33m\u001b[0m\u001b[1;33m\u001b[0m\u001b[0m\n\u001b[0;32m    278\u001b[0m                 raise Exception(\n",
      "\u001b[1;32m~\\anaconda3\\lib\\site-packages\\py4j\\java_gateway.py\u001b[0m in \u001b[0;36m__call__\u001b[1;34m(self, *args)\u001b[0m\n\u001b[0;32m   1302\u001b[0m \u001b[1;33m\u001b[0m\u001b[0m\n\u001b[0;32m   1303\u001b[0m         \u001b[0manswer\u001b[0m \u001b[1;33m=\u001b[0m \u001b[0mself\u001b[0m\u001b[1;33m.\u001b[0m\u001b[0mgateway_client\u001b[0m\u001b[1;33m.\u001b[0m\u001b[0msend_command\u001b[0m\u001b[1;33m(\u001b[0m\u001b[0mcommand\u001b[0m\u001b[1;33m)\u001b[0m\u001b[1;33m\u001b[0m\u001b[1;33m\u001b[0m\u001b[0m\n\u001b[1;32m-> 1304\u001b[1;33m         return_value = get_return_value(\n\u001b[0m\u001b[0;32m   1305\u001b[0m             answer, self.gateway_client, self.target_id, self.name)\n\u001b[0;32m   1306\u001b[0m \u001b[1;33m\u001b[0m\u001b[0m\n",
      "\u001b[1;32m~\\anaconda3\\lib\\site-packages\\pyspark\\sql\\utils.py\u001b[0m in \u001b[0;36mdeco\u001b[1;34m(*a, **kw)\u001b[0m\n\u001b[0;32m    109\u001b[0m     \u001b[1;32mdef\u001b[0m \u001b[0mdeco\u001b[0m\u001b[1;33m(\u001b[0m\u001b[1;33m*\u001b[0m\u001b[0ma\u001b[0m\u001b[1;33m,\u001b[0m \u001b[1;33m**\u001b[0m\u001b[0mkw\u001b[0m\u001b[1;33m)\u001b[0m\u001b[1;33m:\u001b[0m\u001b[1;33m\u001b[0m\u001b[1;33m\u001b[0m\u001b[0m\n\u001b[0;32m    110\u001b[0m         \u001b[1;32mtry\u001b[0m\u001b[1;33m:\u001b[0m\u001b[1;33m\u001b[0m\u001b[1;33m\u001b[0m\u001b[0m\n\u001b[1;32m--> 111\u001b[1;33m             \u001b[1;32mreturn\u001b[0m \u001b[0mf\u001b[0m\u001b[1;33m(\u001b[0m\u001b[1;33m*\u001b[0m\u001b[0ma\u001b[0m\u001b[1;33m,\u001b[0m \u001b[1;33m**\u001b[0m\u001b[0mkw\u001b[0m\u001b[1;33m)\u001b[0m\u001b[1;33m\u001b[0m\u001b[1;33m\u001b[0m\u001b[0m\n\u001b[0m\u001b[0;32m    112\u001b[0m         \u001b[1;32mexcept\u001b[0m \u001b[0mpy4j\u001b[0m\u001b[1;33m.\u001b[0m\u001b[0mprotocol\u001b[0m\u001b[1;33m.\u001b[0m\u001b[0mPy4JJavaError\u001b[0m \u001b[1;32mas\u001b[0m \u001b[0me\u001b[0m\u001b[1;33m:\u001b[0m\u001b[1;33m\u001b[0m\u001b[1;33m\u001b[0m\u001b[0m\n\u001b[0;32m    113\u001b[0m             \u001b[0mconverted\u001b[0m \u001b[1;33m=\u001b[0m \u001b[0mconvert_exception\u001b[0m\u001b[1;33m(\u001b[0m\u001b[0me\u001b[0m\u001b[1;33m.\u001b[0m\u001b[0mjava_exception\u001b[0m\u001b[1;33m)\u001b[0m\u001b[1;33m\u001b[0m\u001b[1;33m\u001b[0m\u001b[0m\n",
      "\u001b[1;32m~\\anaconda3\\lib\\site-packages\\py4j\\protocol.py\u001b[0m in \u001b[0;36mget_return_value\u001b[1;34m(answer, gateway_client, target_id, name)\u001b[0m\n\u001b[0;32m    324\u001b[0m             \u001b[0mvalue\u001b[0m \u001b[1;33m=\u001b[0m \u001b[0mOUTPUT_CONVERTER\u001b[0m\u001b[1;33m[\u001b[0m\u001b[0mtype\u001b[0m\u001b[1;33m]\u001b[0m\u001b[1;33m(\u001b[0m\u001b[0manswer\u001b[0m\u001b[1;33m[\u001b[0m\u001b[1;36m2\u001b[0m\u001b[1;33m:\u001b[0m\u001b[1;33m]\u001b[0m\u001b[1;33m,\u001b[0m \u001b[0mgateway_client\u001b[0m\u001b[1;33m)\u001b[0m\u001b[1;33m\u001b[0m\u001b[1;33m\u001b[0m\u001b[0m\n\u001b[0;32m    325\u001b[0m             \u001b[1;32mif\u001b[0m \u001b[0manswer\u001b[0m\u001b[1;33m[\u001b[0m\u001b[1;36m1\u001b[0m\u001b[1;33m]\u001b[0m \u001b[1;33m==\u001b[0m \u001b[0mREFERENCE_TYPE\u001b[0m\u001b[1;33m:\u001b[0m\u001b[1;33m\u001b[0m\u001b[1;33m\u001b[0m\u001b[0m\n\u001b[1;32m--> 326\u001b[1;33m                 raise Py4JJavaError(\n\u001b[0m\u001b[0;32m    327\u001b[0m                     \u001b[1;34m\"An error occurred while calling {0}{1}{2}.\\n\"\u001b[0m\u001b[1;33m.\u001b[0m\u001b[1;33m\u001b[0m\u001b[1;33m\u001b[0m\u001b[0m\n\u001b[0;32m    328\u001b[0m                     format(target_id, \".\", name), value)\n",
      "\u001b[1;31mPy4JJavaError\u001b[0m: An error occurred while calling o119.json.\n: java.lang.NoSuchMethodError: org.json4s.JsonDSL$.pair2Assoc(Lscala/Tuple2;Lscala/Function1;)Lorg/json4s/JsonDSL$JsonAssoc;\r\n\tat org.apache.spark.sql.types.StructType.jsonValue(StructType.scala:411)\r\n\tat org.apache.spark.sql.types.StructType.jsonValue(StructType.scala:102)\r\n\tat org.apache.spark.sql.types.DataType.json(DataType.scala:76)\r\n\tat sun.reflect.GeneratedMethodAccessor47.invoke(Unknown Source)\r\n\tat sun.reflect.DelegatingMethodAccessorImpl.invoke(DelegatingMethodAccessorImpl.java:43)\r\n\tat java.lang.reflect.Method.invoke(Method.java:498)\r\n\tat py4j.reflection.MethodInvoker.invoke(MethodInvoker.java:244)\r\n\tat py4j.reflection.ReflectionEngine.invoke(ReflectionEngine.java:357)\r\n\tat py4j.Gateway.invoke(Gateway.java:282)\r\n\tat py4j.commands.AbstractCommand.invokeMethod(AbstractCommand.java:132)\r\n\tat py4j.commands.CallCommand.execute(CallCommand.java:79)\r\n\tat py4j.GatewayConnection.run(GatewayConnection.java:238)\r\n\tat java.lang.Thread.run(Thread.java:748)\r\n"
     ]
    }
   ],
   "source": [
    "df.na.drop().show()"
   ]
  },
  {
   "cell_type": "code",
   "execution_count": null,
   "id": "f7e13462",
   "metadata": {},
   "outputs": [],
   "source": []
  }
 ],
 "metadata": {
  "kernelspec": {
   "display_name": "Python 3 (ipykernel)",
   "language": "python",
   "name": "python3"
  },
  "language_info": {
   "codemirror_mode": {
    "name": "ipython",
    "version": 3
   },
   "file_extension": ".py",
   "mimetype": "text/x-python",
   "name": "python",
   "nbconvert_exporter": "python",
   "pygments_lexer": "ipython3",
   "version": "3.9.13"
  }
 },
 "nbformat": 4,
 "nbformat_minor": 5
}
