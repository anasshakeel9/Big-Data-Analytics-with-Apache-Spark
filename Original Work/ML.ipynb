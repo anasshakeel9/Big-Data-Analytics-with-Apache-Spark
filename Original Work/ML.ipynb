{
  "nbformat": 4,
  "nbformat_minor": 0,
  "metadata": {
    "colab": {
      "provenance": [],
      "collapsed_sections": [
        "WpLDGdbFNzJL",
        "kfdezpzZN2p5",
        "FRJ1OL5CUUWC"
      ]
    },
    "kernelspec": {
      "name": "python3",
      "display_name": "Python 3"
    },
    "language_info": {
      "name": "python"
    }
  },
  "cells": [
    {
      "cell_type": "code",
      "source": [
        "!pip install pyspark py4j"
      ],
      "metadata": {
        "colab": {
          "base_uri": "https://localhost:8080/"
        },
        "id": "Yge7NJdvSEfI",
        "outputId": "92a93b9d-fe46-44ef-849f-c6e328d69929"
      },
      "execution_count": null,
      "outputs": [
        {
          "output_type": "stream",
          "name": "stdout",
          "text": [
            "Looking in indexes: https://pypi.org/simple, https://us-python.pkg.dev/colab-wheels/public/simple/\n",
            "Collecting pyspark\n",
            "  Downloading pyspark-3.3.1.tar.gz (281.4 MB)\n",
            "\u001b[2K     \u001b[90m━━━━━━━━━━━━━━━━━━━━━━━━━━━━━━━━━━━━━━━\u001b[0m \u001b[32m281.4/281.4 MB\u001b[0m \u001b[31m5.0 MB/s\u001b[0m eta \u001b[36m0:00:00\u001b[0m\n",
            "\u001b[?25h  Preparing metadata (setup.py) ... \u001b[?25l\u001b[?25hdone\n",
            "Collecting py4j\n",
            "  Downloading py4j-0.10.9.7-py2.py3-none-any.whl (200 kB)\n",
            "\u001b[2K     \u001b[90m━━━━━━━━━━━━━━━━━━━━━━━━━━━━━━━━━━━━━━\u001b[0m \u001b[32m200.5/200.5 KB\u001b[0m \u001b[31m19.9 MB/s\u001b[0m eta \u001b[36m0:00:00\u001b[0m\n",
            "\u001b[?25h  Downloading py4j-0.10.9.5-py2.py3-none-any.whl (199 kB)\n",
            "\u001b[2K     \u001b[90m━━━━━━━━━━━━━━━━━━━━━━━━━━━━━━━━━━━━━━\u001b[0m \u001b[32m199.7/199.7 KB\u001b[0m \u001b[31m22.6 MB/s\u001b[0m eta \u001b[36m0:00:00\u001b[0m\n",
            "\u001b[?25hBuilding wheels for collected packages: pyspark\n",
            "  Building wheel for pyspark (setup.py) ... \u001b[?25l\u001b[?25hdone\n",
            "  Created wheel for pyspark: filename=pyspark-3.3.1-py2.py3-none-any.whl size=281845512 sha256=2562f25c78048a75d0f603b71ffd069bca1d6a27e82af703abb9cb01d79cb883\n",
            "  Stored in directory: /root/.cache/pip/wheels/43/dc/11/ec201cd671da62fa9c5cc77078235e40722170ceba231d7598\n",
            "Successfully built pyspark\n",
            "Installing collected packages: py4j, pyspark\n",
            "Successfully installed py4j-0.10.9.5 pyspark-3.3.1\n"
          ]
        }
      ]
    },
    {
      "cell_type": "code",
      "source": [
        "!pip install findspark"
      ],
      "metadata": {
        "colab": {
          "base_uri": "https://localhost:8080/"
        },
        "id": "rHLwVUZESls2",
        "outputId": "c85429df-3ee2-41d5-f08e-f2f6be670c0a"
      },
      "execution_count": null,
      "outputs": [
        {
          "output_type": "stream",
          "name": "stdout",
          "text": [
            "Looking in indexes: https://pypi.org/simple, https://us-python.pkg.dev/colab-wheels/public/simple/\n",
            "Collecting findspark\n",
            "  Downloading findspark-2.0.1-py2.py3-none-any.whl (4.4 kB)\n",
            "Installing collected packages: findspark\n",
            "Successfully installed findspark-2.0.1\n"
          ]
        }
      ]
    },
    {
      "cell_type": "code",
      "source": [
        "# Loading Package\n",
        "import pyspark\n",
        "from pyspark import SparkContext"
      ],
      "metadata": {
        "id": "5dZP3zljTd1B"
      },
      "execution_count": null,
      "outputs": []
    },
    {
      "cell_type": "code",
      "source": [
        "sc = SparkContext.getOrCreate();"
      ],
      "metadata": {
        "id": "6JkRSlhNUf8P"
      },
      "execution_count": null,
      "outputs": []
    },
    {
      "cell_type": "code",
      "source": [
        "#creating spark session\n",
        "from pyspark.sql import SparkSession"
      ],
      "metadata": {
        "id": "ZWhNIg7gUkAT"
      },
      "execution_count": null,
      "outputs": []
    },
    {
      "cell_type": "code",
      "source": [
        "spark = SparkSession.builder.appName(\"BDdiabetes\").getOrCreate()"
      ],
      "metadata": {
        "id": "IrJ7RHM-UmYV"
      },
      "execution_count": null,
      "outputs": []
    },
    {
      "cell_type": "code",
      "source": [
        "#Load Dataset\n",
        "df = spark.read.csv('diabetes.csv',header=True, inferSchema=True)"
      ],
      "metadata": {
        "id": "52iZ3Z8iUpkj"
      },
      "execution_count": null,
      "outputs": []
    },
    {
      "cell_type": "code",
      "source": [
        "df.show()"
      ],
      "metadata": {
        "colab": {
          "base_uri": "https://localhost:8080/"
        },
        "id": "p8TIQDwMUwps",
        "outputId": "ab4c7e3f-733a-483d-c900-2f0f14b5b9b2"
      },
      "execution_count": null,
      "outputs": [
        {
          "output_type": "stream",
          "name": "stdout",
          "text": [
            "+-----------+-------+-------------+-------------+-------+----+------------------------+---+-------+\n",
            "|Pregnancies|Glucose|BloodPressure|SkinThickness|Insulin| BMI|DiabetesPedigreeFunction|Age|Outcome|\n",
            "+-----------+-------+-------------+-------------+-------+----+------------------------+---+-------+\n",
            "|          6|    148|           72|           35|      0|33.6|                   0.627| 50|      1|\n",
            "|          1|     85|           66|           29|      0|26.6|                   0.351| 31|      0|\n",
            "|          8|    183|           64|            0|      0|23.3|                   0.672| 32|      1|\n",
            "|          1|     89|           66|           23|     94|28.1|                   0.167| 21|      0|\n",
            "|          0|    137|           40|           35|    168|43.1|                   2.288| 33|      1|\n",
            "|          5|    116|           74|            0|      0|25.6|                   0.201| 30|      0|\n",
            "|          3|     78|           50|           32|     88|31.0|                   0.248| 26|      1|\n",
            "|         10|    115|            0|            0|      0|35.3|                   0.134| 29|      0|\n",
            "|          2|    197|           70|           45|    543|30.5|                   0.158| 53|      1|\n",
            "|          8|    125|           96|            0|      0| 0.0|                   0.232| 54|      1|\n",
            "|          4|    110|           92|            0|      0|37.6|                   0.191| 30|      0|\n",
            "|         10|    168|           74|            0|      0|38.0|                   0.537| 34|      1|\n",
            "|         10|    139|           80|            0|      0|27.1|                   1.441| 57|      0|\n",
            "|          1|    189|           60|           23|    846|30.1|                   0.398| 59|      1|\n",
            "|          5|    166|           72|           19|    175|25.8|                   0.587| 51|      1|\n",
            "|          7|    100|            0|            0|      0|30.0|                   0.484| 32|      1|\n",
            "|          0|    118|           84|           47|    230|45.8|                   0.551| 31|      1|\n",
            "|          7|    107|           74|            0|      0|29.6|                   0.254| 31|      1|\n",
            "|          1|    103|           30|           38|     83|43.3|                   0.183| 33|      0|\n",
            "|          1|    115|           70|           30|     96|34.6|                   0.529| 32|      1|\n",
            "+-----------+-------+-------------+-------------+-------+----+------------------------+---+-------+\n",
            "only showing top 20 rows\n",
            "\n"
          ]
        }
      ]
    },
    {
      "cell_type": "code",
      "source": [
        "df.printSchema()"
      ],
      "metadata": {
        "colab": {
          "base_uri": "https://localhost:8080/"
        },
        "id": "MkfBx7SfU0XC",
        "outputId": "b0062f91-ee84-49e2-c109-84b608f18c89"
      },
      "execution_count": null,
      "outputs": [
        {
          "output_type": "stream",
          "name": "stdout",
          "text": [
            "root\n",
            " |-- Pregnancies: integer (nullable = true)\n",
            " |-- Glucose: integer (nullable = true)\n",
            " |-- BloodPressure: integer (nullable = true)\n",
            " |-- SkinThickness: integer (nullable = true)\n",
            " |-- Insulin: integer (nullable = true)\n",
            " |-- BMI: double (nullable = true)\n",
            " |-- DiabetesPedigreeFunction: double (nullable = true)\n",
            " |-- Age: integer (nullable = true)\n",
            " |-- Outcome: integer (nullable = true)\n",
            "\n"
          ]
        }
      ]
    },
    {
      "cell_type": "code",
      "source": [
        "df.columns"
      ],
      "metadata": {
        "colab": {
          "base_uri": "https://localhost:8080/"
        },
        "id": "Z9N-qa2FVAvA",
        "outputId": "1777f9c4-fb0f-4076-f0d6-9167b0ad6fe1"
      },
      "execution_count": null,
      "outputs": [
        {
          "output_type": "execute_result",
          "data": {
            "text/plain": [
              "['Pregnancies',\n",
              " 'Glucose',\n",
              " 'BloodPressure',\n",
              " 'SkinThickness',\n",
              " 'Insulin',\n",
              " 'BMI',\n",
              " 'DiabetesPedigreeFunction',\n",
              " 'Age',\n",
              " 'Outcome']"
            ]
          },
          "metadata": {},
          "execution_count": 10
        }
      ]
    },
    {
      "cell_type": "code",
      "source": [
        "df.groupBy('Outcome').count().show()"
      ],
      "metadata": {
        "colab": {
          "base_uri": "https://localhost:8080/"
        },
        "id": "6A_P5qbpU4UA",
        "outputId": "64cf51ab-e614-432b-ac8a-2eb575e16930"
      },
      "execution_count": null,
      "outputs": [
        {
          "output_type": "stream",
          "name": "stdout",
          "text": [
            "+-------+-----+\n",
            "|Outcome|count|\n",
            "+-------+-----+\n",
            "|      1|  268|\n",
            "|      0|  500|\n",
            "+-------+-----+\n",
            "\n"
          ]
        }
      ]
    },
    {
      "cell_type": "code",
      "execution_count": null,
      "metadata": {
        "id": "UOYB5j8hQfZu"
      },
      "outputs": [],
      "source": [
        "import pyspark.ml"
      ]
    },
    {
      "cell_type": "code",
      "source": [
        "from pyspark.ml.feature import VectorAssembler, StringIndexer"
      ],
      "metadata": {
        "id": "D7jvNQzmSydf"
      },
      "execution_count": null,
      "outputs": []
    },
    {
      "cell_type": "code",
      "source": [
        "#Label Encoding\n",
        "LabelEncoding = StringIndexer(inputCol='Outcome', outputCol='Target').fit(df)\n",
        "df = LabelEncoding.transform(df)"
      ],
      "metadata": {
        "id": "_Q1tkLN2Sy0P"
      },
      "execution_count": null,
      "outputs": []
    },
    {
      "cell_type": "code",
      "source": [
        "#get the labels\n",
        "LabelEncoding.labels"
      ],
      "metadata": {
        "colab": {
          "base_uri": "https://localhost:8080/"
        },
        "id": "KOwAAt4MTnfq",
        "outputId": "866d86d0-4190-432e-e838-6068c8033529"
      },
      "execution_count": null,
      "outputs": [
        {
          "output_type": "execute_result",
          "data": {
            "text/plain": [
              "['0', '1']"
            ]
          },
          "metadata": {},
          "execution_count": 69
        }
      ]
    },
    {
      "cell_type": "code",
      "source": [
        "df2 = df.select('Outcome')"
      ],
      "metadata": {
        "id": "duCPCql-TuA5"
      },
      "execution_count": null,
      "outputs": []
    },
    {
      "cell_type": "code",
      "source": [
        "df2.printSchema()"
      ],
      "metadata": {
        "colab": {
          "base_uri": "https://localhost:8080/"
        },
        "id": "5mCXgSQHTvbV",
        "outputId": "39062876-0471-4893-9e03-ceb265692e24"
      },
      "execution_count": null,
      "outputs": [
        {
          "output_type": "stream",
          "name": "stdout",
          "text": [
            "root\n",
            " |-- Outcome: integer (nullable = true)\n",
            "\n"
          ]
        }
      ]
    },
    {
      "cell_type": "code",
      "source": [
        "required_features = ['Pregnancies','Glucose','BloodPressure','SkinThickness','Insulin','BMI','DiabetesPedigreeFunction','Age']"
      ],
      "metadata": {
        "id": "zytN7dqgTwlI"
      },
      "execution_count": null,
      "outputs": []
    },
    {
      "cell_type": "code",
      "source": [
        "#vector assembler\n",
        "vec_assembler = VectorAssembler(inputCols=required_features, outputCol='features')"
      ],
      "metadata": {
        "id": "Vc6R677tTySV"
      },
      "execution_count": null,
      "outputs": []
    },
    {
      "cell_type": "code",
      "source": [
        "vec_df = vec_assembler.transform(df)"
      ],
      "metadata": {
        "id": "udoNu7KJUG1I"
      },
      "execution_count": null,
      "outputs": []
    },
    {
      "cell_type": "code",
      "source": [
        "vec_df.show(3)"
      ],
      "metadata": {
        "colab": {
          "base_uri": "https://localhost:8080/"
        },
        "id": "xCJTckbrUJaO",
        "outputId": "26ccacec-3739-4d0e-8c20-8ccc2838aa1d"
      },
      "execution_count": null,
      "outputs": [
        {
          "output_type": "stream",
          "name": "stdout",
          "text": [
            "+-----------+-------+-------------+-------------+-------+----+------------------------+---+-------+------+--------------------+\n",
            "|Pregnancies|Glucose|BloodPressure|SkinThickness|Insulin| BMI|DiabetesPedigreeFunction|Age|Outcome|Target|            features|\n",
            "+-----------+-------+-------------+-------------+-------+----+------------------------+---+-------+------+--------------------+\n",
            "|          6|    148|           72|           35|      0|33.6|                   0.627| 50|      1|   1.0|[6.0,148.0,72.0,3...|\n",
            "|          1|     85|           66|           29|      0|26.6|                   0.351| 31|      0|   0.0|[1.0,85.0,66.0,29...|\n",
            "|          8|    183|           64|            0|      0|23.3|                   0.672| 32|      1|   1.0|[8.0,183.0,64.0,0...|\n",
            "+-----------+-------+-------------+-------------+-------+----+------------------------+---+-------+------+--------------------+\n",
            "only showing top 3 rows\n",
            "\n"
          ]
        }
      ]
    },
    {
      "cell_type": "code",
      "source": [
        "finalased_data = vec_df.select('features','Target')"
      ],
      "metadata": {
        "id": "AKzBDgYuUKiM"
      },
      "execution_count": null,
      "outputs": []
    },
    {
      "cell_type": "code",
      "source": [
        "finalased_data.show()"
      ],
      "metadata": {
        "colab": {
          "base_uri": "https://localhost:8080/"
        },
        "id": "7Inq_lcrULuU",
        "outputId": "b7974139-c4b5-46b6-afc3-6e1fabe6f4f9"
      },
      "execution_count": null,
      "outputs": [
        {
          "output_type": "stream",
          "name": "stdout",
          "text": [
            "+--------------------+------+\n",
            "|            features|Target|\n",
            "+--------------------+------+\n",
            "|[6.0,148.0,72.0,3...|   1.0|\n",
            "|[1.0,85.0,66.0,29...|   0.0|\n",
            "|[8.0,183.0,64.0,0...|   1.0|\n",
            "|[1.0,89.0,66.0,23...|   0.0|\n",
            "|[0.0,137.0,40.0,3...|   1.0|\n",
            "|[5.0,116.0,74.0,0...|   0.0|\n",
            "|[3.0,78.0,50.0,32...|   1.0|\n",
            "|[10.0,115.0,0.0,0...|   0.0|\n",
            "|[2.0,197.0,70.0,4...|   1.0|\n",
            "|[8.0,125.0,96.0,0...|   1.0|\n",
            "|[4.0,110.0,92.0,0...|   0.0|\n",
            "|[10.0,168.0,74.0,...|   1.0|\n",
            "|[10.0,139.0,80.0,...|   0.0|\n",
            "|[1.0,189.0,60.0,2...|   1.0|\n",
            "|[5.0,166.0,72.0,1...|   1.0|\n",
            "|[7.0,100.0,0.0,0....|   1.0|\n",
            "|[0.0,118.0,84.0,4...|   1.0|\n",
            "|[7.0,107.0,74.0,0...|   1.0|\n",
            "|[1.0,103.0,30.0,3...|   0.0|\n",
            "|[1.0,115.0,70.0,3...|   1.0|\n",
            "+--------------------+------+\n",
            "only showing top 20 rows\n",
            "\n"
          ]
        }
      ]
    },
    {
      "cell_type": "code",
      "source": [
        "train_df,test_df = vec_df.randomSplit([0.7,0.3])"
      ],
      "metadata": {
        "id": "dSfvDr9SUMqC"
      },
      "execution_count": null,
      "outputs": []
    },
    {
      "cell_type": "code",
      "source": [
        "train_df.show()"
      ],
      "metadata": {
        "colab": {
          "base_uri": "https://localhost:8080/"
        },
        "id": "QhaYWq3iUN3W",
        "outputId": "be79a94f-fcfb-432f-aca6-e5a9f5f58f0c"
      },
      "execution_count": null,
      "outputs": [
        {
          "output_type": "stream",
          "name": "stdout",
          "text": [
            "+-----------+-------+-------------+-------------+-------+----+------------------------+---+-------+------+--------------------+\n",
            "|Pregnancies|Glucose|BloodPressure|SkinThickness|Insulin| BMI|DiabetesPedigreeFunction|Age|Outcome|Target|            features|\n",
            "+-----------+-------+-------------+-------------+-------+----+------------------------+---+-------+------+--------------------+\n",
            "|          0|     73|            0|            0|      0|21.1|                   0.342| 25|      0|   0.0|(8,[1,5,6,7],[73....|\n",
            "|          0|     74|           52|           10|     36|27.8|                   0.269| 22|      0|   0.0|[0.0,74.0,52.0,10...|\n",
            "|          0|     84|           82|           31|    125|38.2|                   0.233| 23|      0|   0.0|[0.0,84.0,82.0,31...|\n",
            "|          0|     86|           68|           32|      0|35.8|                   0.238| 25|      0|   0.0|[0.0,86.0,68.0,32...|\n",
            "|          0|     91|           68|           32|    210|39.9|                   0.381| 25|      0|   0.0|[0.0,91.0,68.0,32...|\n",
            "|          0|     91|           80|            0|      0|32.4|                   0.601| 27|      0|   0.0|[0.0,91.0,80.0,0....|\n",
            "|          0|     93|           60|           25|     92|28.7|                   0.532| 22|      0|   0.0|[0.0,93.0,60.0,25...|\n",
            "|          0|     93|          100|           39|     72|43.4|                   1.021| 35|      0|   0.0|[0.0,93.0,100.0,3...|\n",
            "|          0|     94|            0|            0|      0| 0.0|                   0.256| 25|      0|   0.0|(8,[1,6,7],[94.0,...|\n",
            "|          0|     94|           70|           27|    115|43.5|                   0.347| 21|      0|   0.0|[0.0,94.0,70.0,27...|\n",
            "|          0|     95|           64|           39|    105|44.6|                   0.366| 22|      0|   0.0|[0.0,95.0,64.0,39...|\n",
            "|          0|     95|           80|           45|     92|36.5|                    0.33| 26|      0|   0.0|[0.0,95.0,80.0,45...|\n",
            "|          0|     97|           64|           36|    100|36.8|                     0.6| 25|      0|   0.0|[0.0,97.0,64.0,36...|\n",
            "|          0|     98|           82|           15|     84|25.2|                   0.299| 22|      0|   0.0|[0.0,98.0,82.0,15...|\n",
            "|          0|    100|           70|           26|     50|30.8|                   0.597| 21|      0|   0.0|[0.0,100.0,70.0,2...|\n",
            "|          0|    101|           62|            0|      0|21.9|                   0.336| 25|      0|   0.0|[0.0,101.0,62.0,0...|\n",
            "|          0|    101|           64|           17|      0|21.0|                   0.252| 21|      0|   0.0|[0.0,101.0,64.0,1...|\n",
            "|          0|    101|           76|            0|      0|35.7|                   0.198| 26|      0|   0.0|[0.0,101.0,76.0,0...|\n",
            "|          0|    102|           52|            0|      0|25.1|                   0.078| 21|      0|   0.0|[0.0,102.0,52.0,0...|\n",
            "|          0|    102|           64|           46|     78|40.6|                   0.496| 21|      0|   0.0|[0.0,102.0,64.0,4...|\n",
            "+-----------+-------+-------------+-------------+-------+----+------------------------+---+-------+------+--------------------+\n",
            "only showing top 20 rows\n",
            "\n"
          ]
        }
      ]
    },
    {
      "cell_type": "code",
      "source": [
        "from pyspark.ml.classification import LogisticRegression, DecisionTreeClassifier"
      ],
      "metadata": {
        "id": "g-hYXpGCUO7x"
      },
      "execution_count": null,
      "outputs": []
    },
    {
      "cell_type": "markdown",
      "source": [
        "##Logistic Regression"
      ],
      "metadata": {
        "id": "WpLDGdbFNzJL"
      }
    },
    {
      "cell_type": "code",
      "source": [
        "LR = LogisticRegression(featuresCol='features', labelCol='Target')"
      ],
      "metadata": {
        "id": "cP-WWN2UUP6l"
      },
      "execution_count": null,
      "outputs": []
    },
    {
      "cell_type": "code",
      "source": [
        "LR_Model = LR.fit(train_df)"
      ],
      "metadata": {
        "id": "Bx-NNTeAUQzK"
      },
      "execution_count": null,
      "outputs": []
    },
    {
      "cell_type": "code",
      "source": [
        "import pandas as pd"
      ],
      "metadata": {
        "id": "0fU7QfHfW-4X"
      },
      "execution_count": null,
      "outputs": []
    },
    {
      "cell_type": "code",
      "source": [
        "pd.DataFrame({\"Coefficients\":LR_Model.coefficients}, index=required_features)"
      ],
      "metadata": {
        "colab": {
          "base_uri": "https://localhost:8080/",
          "height": 300
        },
        "id": "VzO-flsoXI_D",
        "outputId": "1d151bde-d5a8-4f33-8253-87834470b2c3"
      },
      "execution_count": null,
      "outputs": [
        {
          "output_type": "execute_result",
          "data": {
            "text/plain": [
              "                          Coefficients\n",
              "Pregnancies                   0.137684\n",
              "Glucose                       0.034615\n",
              "BloodPressure                -0.009749\n",
              "SkinThickness                 0.000941\n",
              "Insulin                      -0.001419\n",
              "BMI                           0.066169\n",
              "DiabetesPedigreeFunction      1.074135\n",
              "Age                           0.004124"
            ],
            "text/html": [
              "\n",
              "  <div id=\"df-35c5edff-0e4e-4af3-abe8-cc2f176737d7\">\n",
              "    <div class=\"colab-df-container\">\n",
              "      <div>\n",
              "<style scoped>\n",
              "    .dataframe tbody tr th:only-of-type {\n",
              "        vertical-align: middle;\n",
              "    }\n",
              "\n",
              "    .dataframe tbody tr th {\n",
              "        vertical-align: top;\n",
              "    }\n",
              "\n",
              "    .dataframe thead th {\n",
              "        text-align: right;\n",
              "    }\n",
              "</style>\n",
              "<table border=\"1\" class=\"dataframe\">\n",
              "  <thead>\n",
              "    <tr style=\"text-align: right;\">\n",
              "      <th></th>\n",
              "      <th>Coefficients</th>\n",
              "    </tr>\n",
              "  </thead>\n",
              "  <tbody>\n",
              "    <tr>\n",
              "      <th>Pregnancies</th>\n",
              "      <td>0.137684</td>\n",
              "    </tr>\n",
              "    <tr>\n",
              "      <th>Glucose</th>\n",
              "      <td>0.034615</td>\n",
              "    </tr>\n",
              "    <tr>\n",
              "      <th>BloodPressure</th>\n",
              "      <td>-0.009749</td>\n",
              "    </tr>\n",
              "    <tr>\n",
              "      <th>SkinThickness</th>\n",
              "      <td>0.000941</td>\n",
              "    </tr>\n",
              "    <tr>\n",
              "      <th>Insulin</th>\n",
              "      <td>-0.001419</td>\n",
              "    </tr>\n",
              "    <tr>\n",
              "      <th>BMI</th>\n",
              "      <td>0.066169</td>\n",
              "    </tr>\n",
              "    <tr>\n",
              "      <th>DiabetesPedigreeFunction</th>\n",
              "      <td>1.074135</td>\n",
              "    </tr>\n",
              "    <tr>\n",
              "      <th>Age</th>\n",
              "      <td>0.004124</td>\n",
              "    </tr>\n",
              "  </tbody>\n",
              "</table>\n",
              "</div>\n",
              "      <button class=\"colab-df-convert\" onclick=\"convertToInteractive('df-35c5edff-0e4e-4af3-abe8-cc2f176737d7')\"\n",
              "              title=\"Convert this dataframe to an interactive table.\"\n",
              "              style=\"display:none;\">\n",
              "        \n",
              "  <svg xmlns=\"http://www.w3.org/2000/svg\" height=\"24px\"viewBox=\"0 0 24 24\"\n",
              "       width=\"24px\">\n",
              "    <path d=\"M0 0h24v24H0V0z\" fill=\"none\"/>\n",
              "    <path d=\"M18.56 5.44l.94 2.06.94-2.06 2.06-.94-2.06-.94-.94-2.06-.94 2.06-2.06.94zm-11 1L8.5 8.5l.94-2.06 2.06-.94-2.06-.94L8.5 2.5l-.94 2.06-2.06.94zm10 10l.94 2.06.94-2.06 2.06-.94-2.06-.94-.94-2.06-.94 2.06-2.06.94z\"/><path d=\"M17.41 7.96l-1.37-1.37c-.4-.4-.92-.59-1.43-.59-.52 0-1.04.2-1.43.59L10.3 9.45l-7.72 7.72c-.78.78-.78 2.05 0 2.83L4 21.41c.39.39.9.59 1.41.59.51 0 1.02-.2 1.41-.59l7.78-7.78 2.81-2.81c.8-.78.8-2.07 0-2.86zM5.41 20L4 18.59l7.72-7.72 1.47 1.35L5.41 20z\"/>\n",
              "  </svg>\n",
              "      </button>\n",
              "      \n",
              "  <style>\n",
              "    .colab-df-container {\n",
              "      display:flex;\n",
              "      flex-wrap:wrap;\n",
              "      gap: 12px;\n",
              "    }\n",
              "\n",
              "    .colab-df-convert {\n",
              "      background-color: #E8F0FE;\n",
              "      border: none;\n",
              "      border-radius: 50%;\n",
              "      cursor: pointer;\n",
              "      display: none;\n",
              "      fill: #1967D2;\n",
              "      height: 32px;\n",
              "      padding: 0 0 0 0;\n",
              "      width: 32px;\n",
              "    }\n",
              "\n",
              "    .colab-df-convert:hover {\n",
              "      background-color: #E2EBFA;\n",
              "      box-shadow: 0px 1px 2px rgba(60, 64, 67, 0.3), 0px 1px 3px 1px rgba(60, 64, 67, 0.15);\n",
              "      fill: #174EA6;\n",
              "    }\n",
              "\n",
              "    [theme=dark] .colab-df-convert {\n",
              "      background-color: #3B4455;\n",
              "      fill: #D2E3FC;\n",
              "    }\n",
              "\n",
              "    [theme=dark] .colab-df-convert:hover {\n",
              "      background-color: #434B5C;\n",
              "      box-shadow: 0px 1px 3px 1px rgba(0, 0, 0, 0.15);\n",
              "      filter: drop-shadow(0px 1px 2px rgba(0, 0, 0, 0.3));\n",
              "      fill: #FFFFFF;\n",
              "    }\n",
              "  </style>\n",
              "\n",
              "      <script>\n",
              "        const buttonEl =\n",
              "          document.querySelector('#df-35c5edff-0e4e-4af3-abe8-cc2f176737d7 button.colab-df-convert');\n",
              "        buttonEl.style.display =\n",
              "          google.colab.kernel.accessAllowed ? 'block' : 'none';\n",
              "\n",
              "        async function convertToInteractive(key) {\n",
              "          const element = document.querySelector('#df-35c5edff-0e4e-4af3-abe8-cc2f176737d7');\n",
              "          const dataTable =\n",
              "            await google.colab.kernel.invokeFunction('convertToInteractive',\n",
              "                                                     [key], {});\n",
              "          if (!dataTable) return;\n",
              "\n",
              "          const docLinkHtml = 'Like what you see? Visit the ' +\n",
              "            '<a target=\"_blank\" href=https://colab.research.google.com/notebooks/data_table.ipynb>data table notebook</a>'\n",
              "            + ' to learn more about interactive tables.';\n",
              "          element.innerHTML = '';\n",
              "          dataTable['output_type'] = 'display_data';\n",
              "          await google.colab.output.renderOutput(dataTable, element);\n",
              "          const docLink = document.createElement('div');\n",
              "          docLink.innerHTML = docLinkHtml;\n",
              "          element.appendChild(docLink);\n",
              "        }\n",
              "      </script>\n",
              "    </div>\n",
              "  </div>\n",
              "  "
            ]
          },
          "metadata": {},
          "execution_count": 83
        }
      ]
    },
    {
      "cell_type": "code",
      "source": [
        "y_pred = LR_Model.transform(test_df)"
      ],
      "metadata": {
        "id": "uOG7m_vqXbk0"
      },
      "execution_count": null,
      "outputs": []
    },
    {
      "cell_type": "code",
      "source": [
        "y_pred.show()"
      ],
      "metadata": {
        "colab": {
          "base_uri": "https://localhost:8080/"
        },
        "id": "RiTgfpjZXsSI",
        "outputId": "faa79973-dc8a-4f78-8ccc-905c59867788"
      },
      "execution_count": null,
      "outputs": [
        {
          "output_type": "stream",
          "name": "stdout",
          "text": [
            "+-----------+-------+-------------+-------------+-------+----+------------------------+---+-------+------+--------------------+--------------------+--------------------+----------+\n",
            "|Pregnancies|Glucose|BloodPressure|SkinThickness|Insulin| BMI|DiabetesPedigreeFunction|Age|Outcome|Target|            features|       rawPrediction|         probability|prediction|\n",
            "+-----------+-------+-------------+-------------+-------+----+------------------------+---+-------+------+--------------------+--------------------+--------------------+----------+\n",
            "|          0|     57|           60|            0|      0|21.7|                   0.735| 67|      0|   0.0|[0.0,57.0,60.0,0....|[3.58462386282940...|[0.97300201351108...|       0.0|\n",
            "|          0|     67|           76|            0|      0|45.3|                   0.194| 46|      0|   0.0|[0.0,67.0,76.0,0....|[2.52501573197027...|[0.92587701448231...|       0.0|\n",
            "|          0|     78|           88|           29|     40|36.9|                   0.434| 21|      0|   0.0|[0.0,78.0,88.0,29...|[2.96924493682173...|[0.95116521630151...|       0.0|\n",
            "|          0|     93|          100|           39|     72|43.4|                   1.021| 35|      0|   0.0|[0.0,93.0,100.0,3...|[1.42092170533624...|[0.80548287006257...|       0.0|\n",
            "|          0|     94|            0|            0|      0| 0.0|                   0.256| 25|      0|   0.0|(8,[1,6,7],[94.0,...|[3.96870118344137...|[0.98145254687922...|       0.0|\n",
            "|          0|     95|           64|           39|    105|44.6|                   0.366| 22|      0|   0.0|[0.0,95.0,64.0,39...|[1.61883640085104...|[0.83463459274445...|       0.0|\n",
            "|          0|     95|           85|           25|     36|37.4|                   0.247| 24|      1|   1.0|[0.0,95.0,85.0,25...|[2.39354247831179...|[0.91633355791073...|       0.0|\n",
            "|          0|     97|           64|           36|    100|36.8|                     0.6| 25|      0|   0.0|[0.0,97.0,64.0,36...|[1.83605283709321...|[0.86248121429927...|       0.0|\n",
            "|          0|     98|           82|           15|     84|25.2|                   0.299| 22|      0|   0.0|[0.0,98.0,82.0,15...|[3.13663274872516...|[0.95837877186441...|       0.0|\n",
            "|          0|    100|           88|           60|    110|46.8|                   0.962| 31|      0|   0.0|[0.0,100.0,88.0,6...|[0.90206989173337...|[0.71137468020991...|       0.0|\n",
            "|          0|    104|           64|           23|    116|27.8|                   0.454| 23|      0|   0.0|[0.0,104.0,64.0,2...|[2.38953779063096...|[0.91602602070762...|       0.0|\n",
            "|          0|    104|           64|           37|     64|33.6|                    0.51| 22|      1|   1.0|[0.0,104.0,64.0,3...|[1.87728736556119...|[0.86729923685569...|       0.0|\n",
            "|          0|    104|           76|            0|      0|18.4|                   0.582| 27|      0|   0.0|[0.0,104.0,76.0,0...|[2.92049092986625...|[0.94885013090797...|       0.0|\n",
            "|          0|    113|           80|           16|      0|31.0|                   0.874| 21|      0|   0.0|[0.0,113.0,80.0,1...|[1.55886791471074...|[0.82619084609058...|       0.0|\n",
            "|          0|    119|           64|           18|     92|34.9|                   0.725| 23|      0|   0.0|[0.0,119.0,64.0,1...|[1.07598727896163...|[0.74573386230996...|       0.0|\n",
            "|          0|    119|           66|           27|      0|38.8|                   0.259| 22|      0|   0.0|[0.0,119.0,66.0,2...|[1.14779667740467...|[0.75910824099706...|       0.0|\n",
            "|          0|    121|           66|           30|    165|34.3|                   0.203| 33|      1|   1.0|[0.0,121.0,66.0,3...|[1.46810979422822...|[0.81276991404368...|       0.0|\n",
            "|          0|    127|           80|           37|    210|36.3|                   0.804| 23|      0|   0.0|[0.0,127.0,80.0,3...|[0.91133225419284...|[0.71327270578770...|       0.0|\n",
            "|          0|    131|            0|            0|      0|43.2|                    0.27| 26|      1|   1.0|(8,[1,5,6,7],[131...|[-0.4342937372803...|[0.39310149421176...|       1.0|\n",
            "|          0|    131|           88|            0|      0|31.6|                   0.743| 32|      1|   1.0|[0.0,131.0,88.0,0...|[0.93501526283473...|[0.71809166494123...|       0.0|\n",
            "+-----------+-------+-------------+-------------+-------+----+------------------------+---+-------+------+--------------------+--------------------+--------------------+----------+\n",
            "only showing top 20 rows\n",
            "\n"
          ]
        }
      ]
    },
    {
      "cell_type": "code",
      "source": [
        "print(y_pred.columns)"
      ],
      "metadata": {
        "colab": {
          "base_uri": "https://localhost:8080/"
        },
        "id": "g5IKR3nfXvHA",
        "outputId": "70cc2e1b-fab0-4d86-942d-7590ad9dac95"
      },
      "execution_count": null,
      "outputs": [
        {
          "output_type": "stream",
          "name": "stdout",
          "text": [
            "['Pregnancies', 'Glucose', 'BloodPressure', 'SkinThickness', 'Insulin', 'BMI', 'DiabetesPedigreeFunction', 'Age', 'Outcome', 'Target', 'features', 'rawPrediction', 'probability', 'prediction']\n"
          ]
        }
      ]
    },
    {
      "cell_type": "code",
      "source": [
        "y_pred.select('target','rawPrediction','probability','prediction').show()"
      ],
      "metadata": {
        "colab": {
          "base_uri": "https://localhost:8080/"
        },
        "id": "vd4EVoJxYmvU",
        "outputId": "4b71dd7b-8125-48fd-9646-5c014d615e8d"
      },
      "execution_count": null,
      "outputs": [
        {
          "output_type": "stream",
          "name": "stdout",
          "text": [
            "+------+--------------------+--------------------+----------+\n",
            "|target|       rawPrediction|         probability|prediction|\n",
            "+------+--------------------+--------------------+----------+\n",
            "|   0.0|[3.35765837024926...|[0.96635472576344...|       0.0|\n",
            "|   0.0|[2.33809395357971...|[0.91198320723038...|       0.0|\n",
            "|   0.0|[2.75692312764986...|[0.94030315334357...|       0.0|\n",
            "|   0.0|[2.51803653302550...|[0.92539661472056...|       0.0|\n",
            "|   0.0|[1.29812968061042...|[0.78552004307604...|       0.0|\n",
            "|   0.0|[1.78143841627449...|[0.85587439031724...|       0.0|\n",
            "|   0.0|[3.02259787178574...|[0.95358464539638...|       0.0|\n",
            "|   0.0|[2.14610962429876...|[0.89530467597985...|       0.0|\n",
            "|   0.0|[0.82790749508525...|[0.69591229895912...|       0.0|\n",
            "|   0.0|[2.72786199603283...|[0.93865083467290...|       0.0|\n",
            "|   0.0|[2.73468576928481...|[0.93904261048915...|       0.0|\n",
            "|   0.0|[4.06748048450509...|[0.98316770725333...|       0.0|\n",
            "|   0.0|[2.27203829372644...|[0.90653463472311...|       0.0|\n",
            "|   0.0|[1.58062567032406...|[0.82929310990222...|       0.0|\n",
            "|   1.0|[1.07621213252355...|[0.74577649553279...|       0.0|\n",
            "|   0.0|[1.15225095565394...|[0.75992182298891...|       0.0|\n",
            "|   0.0|[1.49479176884132...|[0.81679640181756...|       0.0|\n",
            "|   1.0|[0.44412885815576...|[0.60924241403887...|       0.0|\n",
            "|   1.0|[-0.5518349043415...|[0.36543880202972...|       1.0|\n",
            "|   1.0|[-0.2006041527401...|[0.45001646937847...|       1.0|\n",
            "+------+--------------------+--------------------+----------+\n",
            "only showing top 20 rows\n",
            "\n"
          ]
        }
      ]
    },
    {
      "cell_type": "code",
      "source": [
        "from pyspark.ml.evaluation import MulticlassClassificationEvaluator"
      ],
      "metadata": {
        "id": "GkavRPKEY2P5"
      },
      "execution_count": null,
      "outputs": []
    },
    {
      "cell_type": "code",
      "source": [
        "multi_evaluator = MulticlassClassificationEvaluator(labelCol='Target',metricName='accuracy')"
      ],
      "metadata": {
        "id": "Guy1URuOZcVx"
      },
      "execution_count": null,
      "outputs": []
    },
    {
      "cell_type": "code",
      "source": [
        "multi_evaluator.evaluate(y_pred)"
      ],
      "metadata": {
        "colab": {
          "base_uri": "https://localhost:8080/"
        },
        "id": "yKiQvdAeZnWf",
        "outputId": "71ec9bde-4d6f-432e-dba3-3db98e815b0b"
      },
      "execution_count": null,
      "outputs": [
        {
          "output_type": "execute_result",
          "data": {
            "text/plain": [
              "0.8076923076923077"
            ]
          },
          "metadata": {},
          "execution_count": 88
        }
      ]
    },
    {
      "cell_type": "markdown",
      "source": [
        "##DecisionTreeClassifier"
      ],
      "metadata": {
        "id": "kfdezpzZN2p5"
      }
    },
    {
      "cell_type": "code",
      "source": [
        "DT = DecisionTreeClassifier(featuresCol='features', labelCol='Target')"
      ],
      "metadata": {
        "id": "RZ-APor0Zr35"
      },
      "execution_count": null,
      "outputs": []
    },
    {
      "cell_type": "code",
      "source": [
        "DT_Model = DT.fit(train_df)"
      ],
      "metadata": {
        "id": "Yqgyq5Nac1Ig"
      },
      "execution_count": null,
      "outputs": []
    },
    {
      "cell_type": "code",
      "source": [
        "import pandas as pd"
      ],
      "metadata": {
        "id": "LrvrTWX_c9Ef"
      },
      "execution_count": null,
      "outputs": []
    },
    {
      "cell_type": "code",
      "source": [
        "pd.DataFrame({\"Coefficients\":LR_Model.coefficients}, index=required_features)"
      ],
      "metadata": {
        "colab": {
          "base_uri": "https://localhost:8080/",
          "height": 300
        },
        "id": "kHLn7xs2dAnB",
        "outputId": "0568466f-2b19-49b6-bbf9-645162612e6b"
      },
      "execution_count": null,
      "outputs": [
        {
          "output_type": "execute_result",
          "data": {
            "text/plain": [
              "                          Coefficients\n",
              "Pregnancies                   0.137684\n",
              "Glucose                       0.034615\n",
              "BloodPressure                -0.009749\n",
              "SkinThickness                 0.000941\n",
              "Insulin                      -0.001419\n",
              "BMI                           0.066169\n",
              "DiabetesPedigreeFunction      1.074135\n",
              "Age                           0.004124"
            ],
            "text/html": [
              "\n",
              "  <div id=\"df-d77e6648-0ab2-4b1e-8142-1d995965b855\">\n",
              "    <div class=\"colab-df-container\">\n",
              "      <div>\n",
              "<style scoped>\n",
              "    .dataframe tbody tr th:only-of-type {\n",
              "        vertical-align: middle;\n",
              "    }\n",
              "\n",
              "    .dataframe tbody tr th {\n",
              "        vertical-align: top;\n",
              "    }\n",
              "\n",
              "    .dataframe thead th {\n",
              "        text-align: right;\n",
              "    }\n",
              "</style>\n",
              "<table border=\"1\" class=\"dataframe\">\n",
              "  <thead>\n",
              "    <tr style=\"text-align: right;\">\n",
              "      <th></th>\n",
              "      <th>Coefficients</th>\n",
              "    </tr>\n",
              "  </thead>\n",
              "  <tbody>\n",
              "    <tr>\n",
              "      <th>Pregnancies</th>\n",
              "      <td>0.137684</td>\n",
              "    </tr>\n",
              "    <tr>\n",
              "      <th>Glucose</th>\n",
              "      <td>0.034615</td>\n",
              "    </tr>\n",
              "    <tr>\n",
              "      <th>BloodPressure</th>\n",
              "      <td>-0.009749</td>\n",
              "    </tr>\n",
              "    <tr>\n",
              "      <th>SkinThickness</th>\n",
              "      <td>0.000941</td>\n",
              "    </tr>\n",
              "    <tr>\n",
              "      <th>Insulin</th>\n",
              "      <td>-0.001419</td>\n",
              "    </tr>\n",
              "    <tr>\n",
              "      <th>BMI</th>\n",
              "      <td>0.066169</td>\n",
              "    </tr>\n",
              "    <tr>\n",
              "      <th>DiabetesPedigreeFunction</th>\n",
              "      <td>1.074135</td>\n",
              "    </tr>\n",
              "    <tr>\n",
              "      <th>Age</th>\n",
              "      <td>0.004124</td>\n",
              "    </tr>\n",
              "  </tbody>\n",
              "</table>\n",
              "</div>\n",
              "      <button class=\"colab-df-convert\" onclick=\"convertToInteractive('df-d77e6648-0ab2-4b1e-8142-1d995965b855')\"\n",
              "              title=\"Convert this dataframe to an interactive table.\"\n",
              "              style=\"display:none;\">\n",
              "        \n",
              "  <svg xmlns=\"http://www.w3.org/2000/svg\" height=\"24px\"viewBox=\"0 0 24 24\"\n",
              "       width=\"24px\">\n",
              "    <path d=\"M0 0h24v24H0V0z\" fill=\"none\"/>\n",
              "    <path d=\"M18.56 5.44l.94 2.06.94-2.06 2.06-.94-2.06-.94-.94-2.06-.94 2.06-2.06.94zm-11 1L8.5 8.5l.94-2.06 2.06-.94-2.06-.94L8.5 2.5l-.94 2.06-2.06.94zm10 10l.94 2.06.94-2.06 2.06-.94-2.06-.94-.94-2.06-.94 2.06-2.06.94z\"/><path d=\"M17.41 7.96l-1.37-1.37c-.4-.4-.92-.59-1.43-.59-.52 0-1.04.2-1.43.59L10.3 9.45l-7.72 7.72c-.78.78-.78 2.05 0 2.83L4 21.41c.39.39.9.59 1.41.59.51 0 1.02-.2 1.41-.59l7.78-7.78 2.81-2.81c.8-.78.8-2.07 0-2.86zM5.41 20L4 18.59l7.72-7.72 1.47 1.35L5.41 20z\"/>\n",
              "  </svg>\n",
              "      </button>\n",
              "      \n",
              "  <style>\n",
              "    .colab-df-container {\n",
              "      display:flex;\n",
              "      flex-wrap:wrap;\n",
              "      gap: 12px;\n",
              "    }\n",
              "\n",
              "    .colab-df-convert {\n",
              "      background-color: #E8F0FE;\n",
              "      border: none;\n",
              "      border-radius: 50%;\n",
              "      cursor: pointer;\n",
              "      display: none;\n",
              "      fill: #1967D2;\n",
              "      height: 32px;\n",
              "      padding: 0 0 0 0;\n",
              "      width: 32px;\n",
              "    }\n",
              "\n",
              "    .colab-df-convert:hover {\n",
              "      background-color: #E2EBFA;\n",
              "      box-shadow: 0px 1px 2px rgba(60, 64, 67, 0.3), 0px 1px 3px 1px rgba(60, 64, 67, 0.15);\n",
              "      fill: #174EA6;\n",
              "    }\n",
              "\n",
              "    [theme=dark] .colab-df-convert {\n",
              "      background-color: #3B4455;\n",
              "      fill: #D2E3FC;\n",
              "    }\n",
              "\n",
              "    [theme=dark] .colab-df-convert:hover {\n",
              "      background-color: #434B5C;\n",
              "      box-shadow: 0px 1px 3px 1px rgba(0, 0, 0, 0.15);\n",
              "      filter: drop-shadow(0px 1px 2px rgba(0, 0, 0, 0.3));\n",
              "      fill: #FFFFFF;\n",
              "    }\n",
              "  </style>\n",
              "\n",
              "      <script>\n",
              "        const buttonEl =\n",
              "          document.querySelector('#df-d77e6648-0ab2-4b1e-8142-1d995965b855 button.colab-df-convert');\n",
              "        buttonEl.style.display =\n",
              "          google.colab.kernel.accessAllowed ? 'block' : 'none';\n",
              "\n",
              "        async function convertToInteractive(key) {\n",
              "          const element = document.querySelector('#df-d77e6648-0ab2-4b1e-8142-1d995965b855');\n",
              "          const dataTable =\n",
              "            await google.colab.kernel.invokeFunction('convertToInteractive',\n",
              "                                                     [key], {});\n",
              "          if (!dataTable) return;\n",
              "\n",
              "          const docLinkHtml = 'Like what you see? Visit the ' +\n",
              "            '<a target=\"_blank\" href=https://colab.research.google.com/notebooks/data_table.ipynb>data table notebook</a>'\n",
              "            + ' to learn more about interactive tables.';\n",
              "          element.innerHTML = '';\n",
              "          dataTable['output_type'] = 'display_data';\n",
              "          await google.colab.output.renderOutput(dataTable, element);\n",
              "          const docLink = document.createElement('div');\n",
              "          docLink.innerHTML = docLinkHtml;\n",
              "          element.appendChild(docLink);\n",
              "        }\n",
              "      </script>\n",
              "    </div>\n",
              "  </div>\n",
              "  "
            ]
          },
          "metadata": {},
          "execution_count": 92
        }
      ]
    },
    {
      "cell_type": "code",
      "source": [
        "DT_pred = DT_Model.transform(test_df)"
      ],
      "metadata": {
        "id": "fOQe02tbdCgI"
      },
      "execution_count": null,
      "outputs": []
    },
    {
      "cell_type": "code",
      "source": [
        "DT_pred.show()"
      ],
      "metadata": {
        "colab": {
          "base_uri": "https://localhost:8080/"
        },
        "id": "Ux-kE6rydEqI",
        "outputId": "b9bdb8b3-9c26-4bf6-eaef-cc18a7a640b4"
      },
      "execution_count": null,
      "outputs": [
        {
          "output_type": "stream",
          "name": "stdout",
          "text": [
            "+-----------+-------+-------------+-------------+-------+----+------------------------+---+-------+------+--------------------+-------------+--------------------+----------+\n",
            "|Pregnancies|Glucose|BloodPressure|SkinThickness|Insulin| BMI|DiabetesPedigreeFunction|Age|Outcome|Target|            features|rawPrediction|         probability|prediction|\n",
            "+-----------+-------+-------------+-------------+-------+----+------------------------+---+-------+------+--------------------+-------------+--------------------+----------+\n",
            "|          0|     74|           52|           10|     36|27.8|                   0.269| 22|      0|   0.0|[0.0,74.0,52.0,10...|  [104.0,1.0]|[0.99047619047619...|       0.0|\n",
            "|          0|     84|           64|           22|     66|35.8|                   0.545| 21|      0|   0.0|[0.0,84.0,64.0,22...|   [46.0,5.0]|[0.90196078431372...|       0.0|\n",
            "|          0|     84|           82|           31|    125|38.2|                   0.233| 23|      0|   0.0|[0.0,84.0,82.0,31...|   [46.0,5.0]|[0.90196078431372...|       0.0|\n",
            "|          0|     86|           68|           32|      0|35.8|                   0.238| 25|      0|   0.0|[0.0,86.0,68.0,32...|   [46.0,5.0]|[0.90196078431372...|       0.0|\n",
            "|          0|     93|          100|           39|     72|43.4|                   1.021| 35|      0|   0.0|[0.0,93.0,100.0,3...|    [9.0,5.0]|[0.64285714285714...|       0.0|\n",
            "|          0|     97|           64|           36|    100|36.8|                     0.6| 25|      0|   0.0|[0.0,97.0,64.0,36...|   [46.0,5.0]|[0.90196078431372...|       0.0|\n",
            "|          0|     98|           82|           15|     84|25.2|                   0.299| 22|      0|   0.0|[0.0,98.0,82.0,15...|  [104.0,1.0]|[0.99047619047619...|       0.0|\n",
            "|          0|     99|            0|            0|      0|25.0|                   0.253| 22|      0|   0.0|(8,[1,5,6,7],[99....|  [104.0,1.0]|[0.99047619047619...|       0.0|\n",
            "|          0|    100|           88|           60|    110|46.8|                   0.962| 31|      0|   0.0|[0.0,100.0,88.0,6...|    [9.0,5.0]|[0.64285714285714...|       0.0|\n",
            "|          0|    101|           65|           28|      0|24.6|                   0.237| 22|      0|   0.0|[0.0,101.0,65.0,2...|  [104.0,1.0]|[0.99047619047619...|       0.0|\n",
            "|          0|    102|           52|            0|      0|25.1|                   0.078| 21|      0|   0.0|[0.0,102.0,52.0,0...|  [104.0,1.0]|[0.99047619047619...|       0.0|\n",
            "|          0|    102|           75|           23|      0| 0.0|                   0.572| 21|      0|   0.0|[0.0,102.0,75.0,2...|  [104.0,1.0]|[0.99047619047619...|       0.0|\n",
            "|          0|    102|           78|           40|     90|34.5|                   0.238| 24|      0|   0.0|[0.0,102.0,78.0,4...|   [46.0,5.0]|[0.90196078431372...|       0.0|\n",
            "|          0|    114|           80|           34|    285|44.2|                   0.167| 27|      0|   0.0|[0.0,114.0,80.0,3...|   [26.0,6.0]|     [0.8125,0.1875]|       0.0|\n",
            "|          0|    119|            0|            0|      0|32.4|                   0.141| 24|      1|   1.0|(8,[1,5,6,7],[119...|    [2.0,5.0]|[0.28571428571428...|       1.0|\n",
            "|          0|    119|           66|           27|      0|38.8|                   0.259| 22|      0|   0.0|[0.0,119.0,66.0,2...|   [26.0,6.0]|     [0.8125,0.1875]|       0.0|\n",
            "|          0|    123|           88|           37|      0|35.2|                   0.197| 29|      0|   0.0|[0.0,123.0,88.0,3...|  [64.0,25.0]|[0.71910112359550...|       0.0|\n",
            "|          0|    128|           68|           19|    180|30.5|                   1.391| 25|      1|   1.0|[0.0,128.0,68.0,1...|  [18.0,61.0]|[0.22784810126582...|       1.0|\n",
            "|          0|    129|          110|           46|    130|67.1|                   0.319| 26|      1|   1.0|[0.0,129.0,110.0,...|  [18.0,61.0]|[0.22784810126582...|       1.0|\n",
            "|          0|    131|            0|            0|      0|43.2|                    0.27| 26|      1|   1.0|(8,[1,5,6,7],[131...|    [0.0,4.0]|           [0.0,1.0]|       1.0|\n",
            "+-----------+-------+-------------+-------------+-------+----+------------------------+---+-------+------+--------------------+-------------+--------------------+----------+\n",
            "only showing top 20 rows\n",
            "\n"
          ]
        }
      ]
    },
    {
      "cell_type": "code",
      "source": [
        "print(DT_pred.columns)"
      ],
      "metadata": {
        "colab": {
          "base_uri": "https://localhost:8080/"
        },
        "id": "GGCyWd37dJJC",
        "outputId": "bf7a46a2-3118-4a66-d1bc-77f5488edf17"
      },
      "execution_count": null,
      "outputs": [
        {
          "output_type": "stream",
          "name": "stdout",
          "text": [
            "['Pregnancies', 'Glucose', 'BloodPressure', 'SkinThickness', 'Insulin', 'BMI', 'DiabetesPedigreeFunction', 'Age', 'Outcome', 'Target', 'features', 'rawPrediction', 'probability', 'prediction']\n"
          ]
        }
      ]
    },
    {
      "cell_type": "code",
      "source": [
        "DT_pred.select('target','rawPrediction','probability','prediction').show()"
      ],
      "metadata": {
        "colab": {
          "base_uri": "https://localhost:8080/"
        },
        "id": "3Eql-ZLsdJCx",
        "outputId": "32aebd45-7fcb-4fc6-c16a-40a4cdc4fd8b"
      },
      "execution_count": null,
      "outputs": [
        {
          "output_type": "stream",
          "name": "stdout",
          "text": [
            "+------+-------------+--------------------+----------+\n",
            "|target|rawPrediction|         probability|prediction|\n",
            "+------+-------------+--------------------+----------+\n",
            "|   0.0|  [104.0,1.0]|[0.99047619047619...|       0.0|\n",
            "|   0.0|   [46.0,5.0]|[0.90196078431372...|       0.0|\n",
            "|   0.0|   [46.0,5.0]|[0.90196078431372...|       0.0|\n",
            "|   0.0|   [46.0,5.0]|[0.90196078431372...|       0.0|\n",
            "|   0.0|    [9.0,5.0]|[0.64285714285714...|       0.0|\n",
            "|   0.0|   [46.0,5.0]|[0.90196078431372...|       0.0|\n",
            "|   0.0|  [104.0,1.0]|[0.99047619047619...|       0.0|\n",
            "|   0.0|  [104.0,1.0]|[0.99047619047619...|       0.0|\n",
            "|   0.0|    [9.0,5.0]|[0.64285714285714...|       0.0|\n",
            "|   0.0|  [104.0,1.0]|[0.99047619047619...|       0.0|\n",
            "|   0.0|  [104.0,1.0]|[0.99047619047619...|       0.0|\n",
            "|   0.0|  [104.0,1.0]|[0.99047619047619...|       0.0|\n",
            "|   0.0|   [46.0,5.0]|[0.90196078431372...|       0.0|\n",
            "|   0.0|   [26.0,6.0]|     [0.8125,0.1875]|       0.0|\n",
            "|   1.0|    [2.0,5.0]|[0.28571428571428...|       1.0|\n",
            "|   0.0|   [26.0,6.0]|     [0.8125,0.1875]|       0.0|\n",
            "|   0.0|  [64.0,25.0]|[0.71910112359550...|       0.0|\n",
            "|   1.0|  [18.0,61.0]|[0.22784810126582...|       1.0|\n",
            "|   1.0|  [18.0,61.0]|[0.22784810126582...|       1.0|\n",
            "|   1.0|    [0.0,4.0]|           [0.0,1.0]|       1.0|\n",
            "+------+-------------+--------------------+----------+\n",
            "only showing top 20 rows\n",
            "\n"
          ]
        }
      ]
    },
    {
      "cell_type": "code",
      "source": [
        "from pyspark.ml.evaluation import MulticlassClassificationEvaluator"
      ],
      "metadata": {
        "id": "9k6A9amnds0t"
      },
      "execution_count": null,
      "outputs": []
    },
    {
      "cell_type": "code",
      "source": [
        "multi_evaluator = MulticlassClassificationEvaluator(labelCol='Target',metricName='accuracy')"
      ],
      "metadata": {
        "id": "FL_Y3K2ndzaf"
      },
      "execution_count": null,
      "outputs": []
    },
    {
      "cell_type": "code",
      "source": [
        "multi_evaluator.evaluate(DT_pred)"
      ],
      "metadata": {
        "colab": {
          "base_uri": "https://localhost:8080/"
        },
        "id": "-EzXKMmWd1k5",
        "outputId": "e997059e-8869-4f4b-fa0b-efcd823595e5"
      },
      "execution_count": null,
      "outputs": [
        {
          "output_type": "execute_result",
          "data": {
            "text/plain": [
              "0.7393162393162394"
            ]
          },
          "metadata": {},
          "execution_count": 99
        }
      ]
    },
    {
      "cell_type": "markdown",
      "source": [
        "##RandomForestClassifier"
      ],
      "metadata": {
        "id": "zSHRhHscR5bK"
      }
    },
    {
      "cell_type": "code",
      "source": [
        "from pyspark.ml.classification import RandomForestClassifier"
      ],
      "metadata": {
        "id": "Ql6pURqSd4nG"
      },
      "execution_count": null,
      "outputs": []
    },
    {
      "cell_type": "code",
      "source": [
        "RF = RandomForestClassifier(featuresCol='features', labelCol='Target')"
      ],
      "metadata": {
        "id": "dXDfjwZ8Qx2P"
      },
      "execution_count": null,
      "outputs": []
    },
    {
      "cell_type": "code",
      "source": [
        "RF_Model = RF.fit(train_df)"
      ],
      "metadata": {
        "id": "Sl-nTHvLQ9ET"
      },
      "execution_count": null,
      "outputs": []
    },
    {
      "cell_type": "code",
      "source": [
        "RF_pred = RF_Model.transform(test_df)"
      ],
      "metadata": {
        "id": "ahz5AbaoRRS6"
      },
      "execution_count": null,
      "outputs": []
    },
    {
      "cell_type": "code",
      "source": [
        "RF_pred.show()"
      ],
      "metadata": {
        "id": "gM3H0aXSRWor"
      },
      "execution_count": null,
      "outputs": []
    },
    {
      "cell_type": "code",
      "source": [
        "RF_pred.select('target','rawPrediction','probability','prediction').show()"
      ],
      "metadata": {
        "id": "ic2ptRfzRvy1",
        "colab": {
          "base_uri": "https://localhost:8080/"
        },
        "outputId": "8ee93a4d-cb8d-4cdd-848c-c2a2b0311c85"
      },
      "execution_count": null,
      "outputs": [
        {
          "output_type": "stream",
          "name": "stdout",
          "text": [
            "+------+--------------------+--------------------+----------+\n",
            "|target|       rawPrediction|         probability|prediction|\n",
            "+------+--------------------+--------------------+----------+\n",
            "|   0.0|[19.0510579915350...|[0.95255289957675...|       0.0|\n",
            "|   0.0|[17.4989962388558...|[0.87494981194279...|       0.0|\n",
            "|   0.0|[16.4095559101595...|[0.82047779550797...|       0.0|\n",
            "|   0.0|[17.4428405355814...|[0.87214202677907...|       0.0|\n",
            "|   0.0|[10.9273653957852...|[0.54636826978926...|       0.0|\n",
            "|   0.0|[17.2350134729878...|[0.86175067364939...|       0.0|\n",
            "|   0.0|[19.4279138082839...|[0.97139569041419...|       0.0|\n",
            "|   0.0|[19.3499917303618...|[0.96749958651809...|       0.0|\n",
            "|   0.0|[11.7540320624519...|[0.58770160312259...|       0.0|\n",
            "|   0.0|[19.3802947606648...|[0.96901473803324...|       0.0|\n",
            "|   0.0|[19.3499917303618...|[0.96749958651809...|       0.0|\n",
            "|   0.0|[19.4100785223947...|[0.97050392611973...|       0.0|\n",
            "|   0.0|[16.9114515818462...|[0.84557257909231...|       0.0|\n",
            "|   0.0|[14.3764381021349...|[0.71882190510674...|       0.0|\n",
            "|   1.0|[17.3920348100644...|[0.86960174050321...|       0.0|\n",
            "|   0.0|[16.6591155554060...|[0.83295577777030...|       0.0|\n",
            "|   0.0|[14.6790327170198...|[0.73395163585099...|       0.0|\n",
            "|   1.0|[14.8392310815088...|[0.74196155407544...|       0.0|\n",
            "|   1.0|[8.69196307680101...|[0.43459815384005...|       1.0|\n",
            "|   1.0|[7.57295653123279...|[0.37864782656163...|       1.0|\n",
            "+------+--------------------+--------------------+----------+\n",
            "only showing top 20 rows\n",
            "\n"
          ]
        }
      ]
    },
    {
      "cell_type": "code",
      "source": [
        "multi_evaluator.evaluate(RF_pred)"
      ],
      "metadata": {
        "colab": {
          "base_uri": "https://localhost:8080/"
        },
        "id": "VFTwbdlcR0kB",
        "outputId": "0d5c3e91-c758-4907-b19e-ecb4aa95b486"
      },
      "execution_count": null,
      "outputs": [
        {
          "output_type": "execute_result",
          "data": {
            "text/plain": [
              "0.782051282051282"
            ]
          },
          "metadata": {},
          "execution_count": 105
        }
      ]
    },
    {
      "cell_type": "markdown",
      "source": [
        "##NaiveBayes"
      ],
      "metadata": {
        "id": "52w84YfPTo67"
      }
    },
    {
      "cell_type": "code",
      "source": [
        "from pyspark.ml.classification import NaiveBayes"
      ],
      "metadata": {
        "id": "rQV5XsgxTqD_"
      },
      "execution_count": null,
      "outputs": []
    },
    {
      "cell_type": "code",
      "source": [
        "NB = NaiveBayes(featuresCol='features', labelCol='Target')"
      ],
      "metadata": {
        "id": "MOh4_bWLTtuh"
      },
      "execution_count": null,
      "outputs": []
    },
    {
      "cell_type": "code",
      "source": [
        "NB_Model = RF.fit(train_df)"
      ],
      "metadata": {
        "id": "cmRuPv3ET1oA"
      },
      "execution_count": null,
      "outputs": []
    },
    {
      "cell_type": "code",
      "source": [
        "NB_pred = NB_Model.transform(test_df)"
      ],
      "metadata": {
        "id": "Rmw075XsT59J"
      },
      "execution_count": null,
      "outputs": []
    },
    {
      "cell_type": "code",
      "source": [
        "NB_pred.select('target','rawPrediction','probability','prediction').show()"
      ],
      "metadata": {
        "id": "VQmkHDqxT7tp",
        "colab": {
          "base_uri": "https://localhost:8080/"
        },
        "outputId": "0d8e1695-3c47-428f-d449-f7006a21567c"
      },
      "execution_count": null,
      "outputs": [
        {
          "output_type": "stream",
          "name": "stdout",
          "text": [
            "+------+--------------------+--------------------+----------+\n",
            "|target|       rawPrediction|         probability|prediction|\n",
            "+------+--------------------+--------------------+----------+\n",
            "|   0.0|[19.0510579915350...|[0.95255289957675...|       0.0|\n",
            "|   0.0|[17.4989962388558...|[0.87494981194279...|       0.0|\n",
            "|   0.0|[16.4095559101595...|[0.82047779550797...|       0.0|\n",
            "|   0.0|[17.4428405355814...|[0.87214202677907...|       0.0|\n",
            "|   0.0|[10.9273653957852...|[0.54636826978926...|       0.0|\n",
            "|   0.0|[17.2350134729878...|[0.86175067364939...|       0.0|\n",
            "|   0.0|[19.4279138082839...|[0.97139569041419...|       0.0|\n",
            "|   0.0|[19.3499917303618...|[0.96749958651809...|       0.0|\n",
            "|   0.0|[11.7540320624519...|[0.58770160312259...|       0.0|\n",
            "|   0.0|[19.3802947606648...|[0.96901473803324...|       0.0|\n",
            "|   0.0|[19.3499917303618...|[0.96749958651809...|       0.0|\n",
            "|   0.0|[19.4100785223947...|[0.97050392611973...|       0.0|\n",
            "|   0.0|[16.9114515818462...|[0.84557257909231...|       0.0|\n",
            "|   0.0|[14.3764381021349...|[0.71882190510674...|       0.0|\n",
            "|   1.0|[17.3920348100644...|[0.86960174050321...|       0.0|\n",
            "|   0.0|[16.6591155554060...|[0.83295577777030...|       0.0|\n",
            "|   0.0|[14.6790327170198...|[0.73395163585099...|       0.0|\n",
            "|   1.0|[14.8392310815088...|[0.74196155407544...|       0.0|\n",
            "|   1.0|[8.69196307680101...|[0.43459815384005...|       1.0|\n",
            "|   1.0|[7.57295653123279...|[0.37864782656163...|       1.0|\n",
            "+------+--------------------+--------------------+----------+\n",
            "only showing top 20 rows\n",
            "\n"
          ]
        }
      ]
    },
    {
      "cell_type": "code",
      "source": [
        "multi_evaluator.evaluate(NB_pred)"
      ],
      "metadata": {
        "colab": {
          "base_uri": "https://localhost:8080/"
        },
        "id": "OhruS06vT_D5",
        "outputId": "5702c4d4-738e-407e-a43d-3f6affd630d9"
      },
      "execution_count": null,
      "outputs": [
        {
          "output_type": "execute_result",
          "data": {
            "text/plain": [
              "0.782051282051282"
            ]
          },
          "metadata": {},
          "execution_count": 111
        }
      ]
    },
    {
      "cell_type": "markdown",
      "source": [
        "##k-Nearest Neighbors (k-NN)"
      ],
      "metadata": {
        "id": "FRJ1OL5CUUWC"
      }
    },
    {
      "cell_type": "code",
      "source": [
        "from pyspark.ml.classification import KNN"
      ],
      "metadata": {
        "colab": {
          "base_uri": "https://localhost:8080/",
          "height": 304
        },
        "id": "QnaCCh4SUS3h",
        "outputId": "d59ce02b-72a6-4ae9-b492-ff0c8f62535d"
      },
      "execution_count": null,
      "outputs": [
        {
          "output_type": "error",
          "ename": "ImportError",
          "evalue": "ignored",
          "traceback": [
            "\u001b[0;31m---------------------------------------------------------------------------\u001b[0m",
            "\u001b[0;31mImportError\u001b[0m                               Traceback (most recent call last)",
            "\u001b[0;32m<ipython-input-69-c7c0155658fb>\u001b[0m in \u001b[0;36m<module>\u001b[0;34m\u001b[0m\n\u001b[0;32m----> 1\u001b[0;31m \u001b[0;32mfrom\u001b[0m \u001b[0mpyspark\u001b[0m\u001b[0;34m.\u001b[0m\u001b[0mml\u001b[0m\u001b[0;34m.\u001b[0m\u001b[0mclassification\u001b[0m \u001b[0;32mimport\u001b[0m \u001b[0mKNN\u001b[0m\u001b[0;34m\u001b[0m\u001b[0;34m\u001b[0m\u001b[0m\n\u001b[0m",
            "\u001b[0;31mImportError\u001b[0m: cannot import name 'KNN' from 'pyspark.ml.classification' (/usr/local/lib/python3.8/dist-packages/pyspark/ml/classification.py)",
            "",
            "\u001b[0;31m---------------------------------------------------------------------------\u001b[0;32m\nNOTE: If your import is failing due to a missing package, you can\nmanually install dependencies using either !pip or !apt.\n\nTo view examples of installing some common dependencies, click the\n\"Open Examples\" button below.\n\u001b[0;31m---------------------------------------------------------------------------\u001b[0m\n"
          ],
          "errorDetails": {
            "actions": [
              {
                "action": "open_url",
                "actionText": "Open Examples",
                "url": "/notebooks/snippets/importing_libraries.ipynb"
              }
            ]
          }
        }
      ]
    },
    {
      "cell_type": "code",
      "source": [],
      "metadata": {
        "id": "gzOLts9pUXe-"
      },
      "execution_count": null,
      "outputs": []
    },
    {
      "cell_type": "markdown",
      "source": [
        "##Gradient Boosting"
      ],
      "metadata": {
        "id": "aZsGTUJfUzGa"
      }
    },
    {
      "cell_type": "code",
      "source": [
        "from pyspark.ml.classification import GBTClassifier"
      ],
      "metadata": {
        "id": "J6hUP7WqU0KS"
      },
      "execution_count": null,
      "outputs": []
    },
    {
      "cell_type": "code",
      "source": [
        "GB = NaiveBayes(featuresCol='features', labelCol='Target')"
      ],
      "metadata": {
        "id": "E2k2grDvWjfO"
      },
      "execution_count": null,
      "outputs": []
    },
    {
      "cell_type": "code",
      "source": [
        "GB_Model = GB.fit(train_df)"
      ],
      "metadata": {
        "id": "_iYbk9v3WpIZ"
      },
      "execution_count": null,
      "outputs": []
    },
    {
      "cell_type": "code",
      "source": [
        "GB_pred = GB_Model.transform(test_df)"
      ],
      "metadata": {
        "id": "SdnYHZ7tWsuh"
      },
      "execution_count": null,
      "outputs": []
    },
    {
      "cell_type": "code",
      "source": [
        "GB_pred.select('target','rawPrediction','probability','prediction').show()"
      ],
      "metadata": {
        "id": "_WzvVDeoWvYZ",
        "colab": {
          "base_uri": "https://localhost:8080/"
        },
        "outputId": "418e8ea5-328f-4d9a-ef40-c218c53260d0"
      },
      "execution_count": null,
      "outputs": [
        {
          "output_type": "stream",
          "name": "stdout",
          "text": [
            "+------+--------------------+--------------------+----------+\n",
            "|target|       rawPrediction|         probability|prediction|\n",
            "+------+--------------------+--------------------+----------+\n",
            "|   0.0|[-369.70143258477...|[0.98980940109783...|       0.0|\n",
            "|   0.0|[-499.37399172930...|[0.98664212299149...|       0.0|\n",
            "|   0.0|[-654.30500653021...|[0.81176366704901...|       0.0|\n",
            "|   0.0|[-440.09044061094...|[0.99999881536296...|       0.0|\n",
            "|   0.0|[-678.28610815209...|[0.99998876422736...|       0.0|\n",
            "|   0.0|[-618.81683081733...|[0.82930213497668...|       0.0|\n",
            "|   0.0|[-527.36500059808...|[0.94127500679337...|       0.0|\n",
            "|   0.0|[-223.22873562558...|[0.19001974407736...|       1.0|\n",
            "|   0.0|[-784.18710242606...|[0.99939842749418...|       0.0|\n",
            "|   0.0|[-406.82758735140...|[0.99998608978725...|       0.0|\n",
            "|   0.0|[-305.94005420966...|[0.99770077152527...|       0.0|\n",
            "|   0.0|[-350.85567985717...|[0.99996613090899...|       0.0|\n",
            "|   0.0|[-631.98412004471...|[0.99217391235803...|       0.0|\n",
            "|   0.0|[-967.03109760999...|[2.11253141639190...|       1.0|\n",
            "|   1.0|[-267.01052650715...|[0.14326043368543...|       1.0|\n",
            "|   0.0|[-459.56831961601...|[0.99998843568282...|       0.0|\n",
            "|   0.0|[-534.70932133522...|[0.99999982293153...|       0.0|\n",
            "|   1.0|[-727.13947230918...|[1.97501898615257...|       1.0|\n",
            "|   1.0|[-875.49832506711...|[0.99880520191463...|       0.0|\n",
            "|   1.0|[-311.64655715471...|[0.17710983956689...|       1.0|\n",
            "+------+--------------------+--------------------+----------+\n",
            "only showing top 20 rows\n",
            "\n"
          ]
        }
      ]
    },
    {
      "cell_type": "code",
      "source": [
        "multi_evaluator.evaluate(GB_pred)"
      ],
      "metadata": {
        "colab": {
          "base_uri": "https://localhost:8080/"
        },
        "id": "sAGt8mtaW2CB",
        "outputId": "ce4fab69-e4bd-41f0-9cf4-7e5123f4e708"
      },
      "execution_count": null,
      "outputs": [
        {
          "output_type": "execute_result",
          "data": {
            "text/plain": [
              "0.6452991452991453"
            ]
          },
          "metadata": {},
          "execution_count": 117
        }
      ]
    },
    {
      "cell_type": "markdown",
      "source": [
        "##LinearSVC"
      ],
      "metadata": {
        "id": "KNsA2nJ5YhAS"
      }
    },
    {
      "cell_type": "code",
      "source": [
        "from pyspark.ml.classification import LinearSVC"
      ],
      "metadata": {
        "id": "6TaDE4lNYjkN"
      },
      "execution_count": null,
      "outputs": []
    },
    {
      "cell_type": "code",
      "source": [
        "svc = NaiveBayes(featuresCol='features', labelCol='Target')"
      ],
      "metadata": {
        "id": "j4vilYLoYmEB"
      },
      "execution_count": null,
      "outputs": []
    },
    {
      "cell_type": "code",
      "source": [
        "svc_Model = svc.fit(train_df)"
      ],
      "metadata": {
        "id": "4T9ILZNvYqHr"
      },
      "execution_count": null,
      "outputs": []
    },
    {
      "cell_type": "code",
      "source": [
        "svc_pred = svc_Model.transform(test_df)"
      ],
      "metadata": {
        "id": "6h57gHP_Yser"
      },
      "execution_count": null,
      "outputs": []
    },
    {
      "cell_type": "code",
      "source": [
        "svc_pred.select('target','rawPrediction','probability','prediction').show()"
      ],
      "metadata": {
        "id": "1xtZ3_BvYw0p",
        "colab": {
          "base_uri": "https://localhost:8080/"
        },
        "outputId": "2e280082-a8a8-44f4-e0ae-d7f202096d05"
      },
      "execution_count": null,
      "outputs": [
        {
          "output_type": "stream",
          "name": "stdout",
          "text": [
            "+------+--------------------+--------------------+----------+\n",
            "|target|       rawPrediction|         probability|prediction|\n",
            "+------+--------------------+--------------------+----------+\n",
            "|   0.0|[-369.70143258477...|[0.98980940109783...|       0.0|\n",
            "|   0.0|[-499.37399172930...|[0.98664212299149...|       0.0|\n",
            "|   0.0|[-654.30500653021...|[0.81176366704901...|       0.0|\n",
            "|   0.0|[-440.09044061094...|[0.99999881536296...|       0.0|\n",
            "|   0.0|[-678.28610815209...|[0.99998876422736...|       0.0|\n",
            "|   0.0|[-618.81683081733...|[0.82930213497668...|       0.0|\n",
            "|   0.0|[-527.36500059808...|[0.94127500679337...|       0.0|\n",
            "|   0.0|[-223.22873562558...|[0.19001974407736...|       1.0|\n",
            "|   0.0|[-784.18710242606...|[0.99939842749418...|       0.0|\n",
            "|   0.0|[-406.82758735140...|[0.99998608978725...|       0.0|\n",
            "|   0.0|[-305.94005420966...|[0.99770077152527...|       0.0|\n",
            "|   0.0|[-350.85567985717...|[0.99996613090899...|       0.0|\n",
            "|   0.0|[-631.98412004471...|[0.99217391235803...|       0.0|\n",
            "|   0.0|[-967.03109760999...|[2.11253141639190...|       1.0|\n",
            "|   1.0|[-267.01052650715...|[0.14326043368543...|       1.0|\n",
            "|   0.0|[-459.56831961601...|[0.99998843568282...|       0.0|\n",
            "|   0.0|[-534.70932133522...|[0.99999982293153...|       0.0|\n",
            "|   1.0|[-727.13947230918...|[1.97501898615257...|       1.0|\n",
            "|   1.0|[-875.49832506711...|[0.99880520191463...|       0.0|\n",
            "|   1.0|[-311.64655715471...|[0.17710983956689...|       1.0|\n",
            "+------+--------------------+--------------------+----------+\n",
            "only showing top 20 rows\n",
            "\n"
          ]
        }
      ]
    },
    {
      "cell_type": "code",
      "source": [
        "multi_evaluator.evaluate(svc_pred)"
      ],
      "metadata": {
        "colab": {
          "base_uri": "https://localhost:8080/"
        },
        "id": "OOjIlnHyY2o5",
        "outputId": "e697e4ad-d67a-43d5-cfb2-1f6155fbee57"
      },
      "execution_count": null,
      "outputs": [
        {
          "output_type": "execute_result",
          "data": {
            "text/plain": [
              "0.6452991452991453"
            ]
          },
          "metadata": {},
          "execution_count": 123
        }
      ]
    }
  ]
}