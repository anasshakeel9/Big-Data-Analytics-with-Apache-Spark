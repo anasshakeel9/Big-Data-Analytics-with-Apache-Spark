{
  "nbformat": 4,
  "nbformat_minor": 0,
  "metadata": {
    "colab": {
      "provenance": []
    },
    "kernelspec": {
      "name": "python3",
      "display_name": "Python 3"
    },
    "language_info": {
      "name": "python"
    }
  },
  "cells": [
    {
      "cell_type": "code",
      "execution_count": null,
      "metadata": {
        "colab": {
          "base_uri": "https://localhost:8080/"
        },
        "id": "wf6rIdwFTjPw",
        "outputId": "2aa429c4-dffb-4fd8-90ff-cf452a8a68ff"
      },
      "outputs": [
        {
          "output_type": "stream",
          "name": "stdout",
          "text": [
            "Looking in indexes: https://pypi.org/simple, https://us-python.pkg.dev/colab-wheels/public/simple/\n",
            "Collecting pyspark\n",
            "  Downloading pyspark-3.3.1.tar.gz (281.4 MB)\n",
            "\u001b[2K     \u001b[90m━━━━━━━━━━━━━━━━━━━━━━━━━━━━━━━━━━━━━━━\u001b[0m \u001b[32m281.4/281.4 MB\u001b[0m \u001b[31m4.7 MB/s\u001b[0m eta \u001b[36m0:00:00\u001b[0m\n",
            "\u001b[?25h  Preparing metadata (setup.py) ... \u001b[?25l\u001b[?25hdone\n",
            "Collecting py4j\n",
            "  Downloading py4j-0.10.9.7-py2.py3-none-any.whl (200 kB)\n",
            "\u001b[2K     \u001b[90m━━━━━━━━━━━━━━━━━━━━━━━━━━━━━━━━━━━━━━\u001b[0m \u001b[32m200.5/200.5 KB\u001b[0m \u001b[31m23.6 MB/s\u001b[0m eta \u001b[36m0:00:00\u001b[0m\n",
            "\u001b[?25h  Downloading py4j-0.10.9.5-py2.py3-none-any.whl (199 kB)\n",
            "\u001b[2K     \u001b[90m━━━━━━━━━━━━━━━━━━━━━━━━━━━━━━━━━━━━━━\u001b[0m \u001b[32m199.7/199.7 KB\u001b[0m \u001b[31m24.2 MB/s\u001b[0m eta \u001b[36m0:00:00\u001b[0m\n",
            "\u001b[?25hBuilding wheels for collected packages: pyspark\n",
            "  Building wheel for pyspark (setup.py) ... \u001b[?25l\u001b[?25hdone\n",
            "  Created wheel for pyspark: filename=pyspark-3.3.1-py2.py3-none-any.whl size=281845512 sha256=49b5b44f01f12e0d622f8a0e381c41e7dcd6cd0e60bbbb8233d6d6df4c46be67\n",
            "  Stored in directory: /root/.cache/pip/wheels/43/dc/11/ec201cd671da62fa9c5cc77078235e40722170ceba231d7598\n",
            "Successfully built pyspark\n",
            "Installing collected packages: py4j, pyspark\n",
            "Successfully installed py4j-0.10.9.5 pyspark-3.3.1\n"
          ]
        }
      ],
      "source": [
        "!pip install pyspark py4j"
      ]
    },
    {
      "cell_type": "code",
      "source": [
        "from pyspark.sql import SparkSession"
      ],
      "metadata": {
        "id": "eTmpF61vTwEB"
      },
      "execution_count": null,
      "outputs": []
    },
    {
      "cell_type": "code",
      "source": [
        "spark= SparkSession.builder.appName('Correlation').getOrCreate()"
      ],
      "metadata": {
        "id": "hY51FigIUKc1"
      },
      "execution_count": null,
      "outputs": []
    },
    {
      "cell_type": "code",
      "source": [
        "from pyspark.ml.stat import Correlation"
      ],
      "metadata": {
        "id": "4rbMs195UTw7"
      },
      "execution_count": null,
      "outputs": []
    },
    {
      "cell_type": "code",
      "source": [
        "df = spark.read.csv('diabetes.csv', inferSchema=True, header=True)"
      ],
      "metadata": {
        "id": "ZWR0quyTU2R9"
      },
      "execution_count": null,
      "outputs": []
    },
    {
      "cell_type": "code",
      "source": [
        "df.printSchema()"
      ],
      "metadata": {
        "colab": {
          "base_uri": "https://localhost:8080/"
        },
        "id": "l9Jkh9NRV_yi",
        "outputId": "05537805-d73e-4eae-ff79-df4a4d477329"
      },
      "execution_count": null,
      "outputs": [
        {
          "output_type": "stream",
          "name": "stdout",
          "text": [
            "root\n",
            " |-- Pregnancies: integer (nullable = true)\n",
            " |-- Glucose: integer (nullable = true)\n",
            " |-- BloodPressure: integer (nullable = true)\n",
            " |-- SkinThickness: integer (nullable = true)\n",
            " |-- Insulin: integer (nullable = true)\n",
            " |-- BMI: double (nullable = true)\n",
            " |-- DiabetesPedigreeFunction: double (nullable = true)\n",
            " |-- Age: integer (nullable = true)\n",
            " |-- Outcome: integer (nullable = true)\n",
            "\n"
          ]
        }
      ]
    },
    {
      "cell_type": "code",
      "source": [
        "df.corr('Pregnancies','Outcome')"
      ],
      "metadata": {
        "colab": {
          "base_uri": "https://localhost:8080/"
        },
        "id": "N_Aagi2tZCEj",
        "outputId": "0f539413-9e8a-4081-97e7-2bf4abdaea56"
      },
      "execution_count": null,
      "outputs": [
        {
          "output_type": "execute_result",
          "data": {
            "text/plain": [
              "0.22189815303398636"
            ]
          },
          "metadata": {},
          "execution_count": 10
        }
      ]
    },
    {
      "cell_type": "code",
      "source": [
        "df.corr('Glucose','Outcome')"
      ],
      "metadata": {
        "colab": {
          "base_uri": "https://localhost:8080/"
        },
        "id": "GEvNoOhAZWRV",
        "outputId": "9220c9c7-27c0-42f4-ed43-74ee6206c762"
      },
      "execution_count": null,
      "outputs": [
        {
          "output_type": "execute_result",
          "data": {
            "text/plain": [
              "0.4665813983068737"
            ]
          },
          "metadata": {},
          "execution_count": 11
        }
      ]
    },
    {
      "cell_type": "code",
      "source": [
        "df.corr('BloodPressure','Outcome')"
      ],
      "metadata": {
        "colab": {
          "base_uri": "https://localhost:8080/"
        },
        "id": "XWohc0TxZYNC",
        "outputId": "17a86831-956d-46c3-a388-81197ffd4015"
      },
      "execution_count": null,
      "outputs": [
        {
          "output_type": "execute_result",
          "data": {
            "text/plain": [
              "0.06506835955033274"
            ]
          },
          "metadata": {},
          "execution_count": 12
        }
      ]
    },
    {
      "cell_type": "code",
      "source": [
        "df.corr('SkinThickness','Outcome')"
      ],
      "metadata": {
        "colab": {
          "base_uri": "https://localhost:8080/"
        },
        "id": "bshhgnNUZayI",
        "outputId": "8d69c5b2-7387-4cdc-b596-5564ae297cdb"
      },
      "execution_count": null,
      "outputs": [
        {
          "output_type": "execute_result",
          "data": {
            "text/plain": [
              "0.07475223191831945"
            ]
          },
          "metadata": {},
          "execution_count": 13
        }
      ]
    },
    {
      "cell_type": "code",
      "source": [
        "df.corr('Insulin','Outcome')"
      ],
      "metadata": {
        "colab": {
          "base_uri": "https://localhost:8080/"
        },
        "id": "x2f_V7QhZdgr",
        "outputId": "17d2f861-1b8e-4724-d699-8300a65501b1"
      },
      "execution_count": null,
      "outputs": [
        {
          "output_type": "execute_result",
          "data": {
            "text/plain": [
              "0.13054795488404794"
            ]
          },
          "metadata": {},
          "execution_count": 14
        }
      ]
    },
    {
      "cell_type": "code",
      "source": [
        "df.corr('BMI','Outcome')"
      ],
      "metadata": {
        "colab": {
          "base_uri": "https://localhost:8080/"
        },
        "id": "UvRASJT8ZgcT",
        "outputId": "71ae119c-3ea0-4b3b-b039-05fa8005f7c5"
      },
      "execution_count": null,
      "outputs": [
        {
          "output_type": "execute_result",
          "data": {
            "text/plain": [
              "0.2926946626444454"
            ]
          },
          "metadata": {},
          "execution_count": 15
        }
      ]
    },
    {
      "cell_type": "code",
      "source": [
        "df.corr('DiabetesPedigreeFunction','Outcome')"
      ],
      "metadata": {
        "colab": {
          "base_uri": "https://localhost:8080/"
        },
        "id": "gQj66VuvZkh2",
        "outputId": "4aaf7603-4879-4dce-808f-09c4bc0b2d7b"
      },
      "execution_count": null,
      "outputs": [
        {
          "output_type": "execute_result",
          "data": {
            "text/plain": [
              "0.17384406565296"
            ]
          },
          "metadata": {},
          "execution_count": 16
        }
      ]
    },
    {
      "cell_type": "code",
      "source": [
        "df.corr('Age','Outcome')"
      ],
      "metadata": {
        "colab": {
          "base_uri": "https://localhost:8080/"
        },
        "id": "IGOH2C_7ZnQq",
        "outputId": "2e5f4672-cbc8-49b7-fa30-346d1ac9ecdd"
      },
      "execution_count": null,
      "outputs": [
        {
          "output_type": "execute_result",
          "data": {
            "text/plain": [
              "0.23835598302719757"
            ]
          },
          "metadata": {},
          "execution_count": 17
        }
      ]
    },
    {
      "cell_type": "code",
      "source": [
        "df.corr('Outcome','Outcome')"
      ],
      "metadata": {
        "colab": {
          "base_uri": "https://localhost:8080/"
        },
        "id": "T76wZdNkZrC5",
        "outputId": "75431cb0-1988-453b-ba44-6197bea8a0b0"
      },
      "execution_count": null,
      "outputs": [
        {
          "output_type": "execute_result",
          "data": {
            "text/plain": [
              "1.0"
            ]
          },
          "metadata": {},
          "execution_count": 18
        }
      ]
    },
    {
      "cell_type": "code",
      "source": [
        "from pyspark.ml.feature import VectorAssembler"
      ],
      "metadata": {
        "id": "mxSKyrdaZue8"
      },
      "execution_count": null,
      "outputs": []
    },
    {
      "cell_type": "code",
      "source": [
        "vector_col = \"corr-features\""
      ],
      "metadata": {
        "id": "AVMeA03PZyz4"
      },
      "execution_count": null,
      "outputs": []
    },
    {
      "cell_type": "code",
      "source": [
        "df.columns"
      ],
      "metadata": {
        "colab": {
          "base_uri": "https://localhost:8080/"
        },
        "id": "Wl3q_PgbZ-Q9",
        "outputId": "26d1678c-bd3c-470f-a52c-46439b68e338"
      },
      "execution_count": null,
      "outputs": [
        {
          "output_type": "execute_result",
          "data": {
            "text/plain": [
              "['Pregnancies',\n",
              " 'Glucose',\n",
              " 'BloodPressure',\n",
              " 'SkinThickness',\n",
              " 'Insulin',\n",
              " 'BMI',\n",
              " 'DiabetesPedigreeFunction',\n",
              " 'Age',\n",
              " 'Outcome']"
            ]
          },
          "metadata": {},
          "execution_count": 23
        }
      ]
    },
    {
      "cell_type": "code",
      "source": [
        "assembler = VectorAssembler(inputCols=df.columns, outputCol=vector_col)"
      ],
      "metadata": {
        "id": "9ZA_WPY-Z_yN"
      },
      "execution_count": null,
      "outputs": []
    },
    {
      "cell_type": "code",
      "source": [
        "df_vector = assembler.transform(df).select(vector_col)"
      ],
      "metadata": {
        "id": "F6D6iThaaTdg"
      },
      "execution_count": null,
      "outputs": []
    },
    {
      "cell_type": "code",
      "source": [
        "df_vector"
      ],
      "metadata": {
        "colab": {
          "base_uri": "https://localhost:8080/"
        },
        "id": "jWngEeEAak6z",
        "outputId": "5b1fa047-bf94-4a4e-9677-eab594c68a9e"
      },
      "execution_count": null,
      "outputs": [
        {
          "output_type": "execute_result",
          "data": {
            "text/plain": [
              "DataFrame[corr-features: vector]"
            ]
          },
          "metadata": {},
          "execution_count": 26
        }
      ]
    },
    {
      "cell_type": "code",
      "source": [
        "matrix = Correlation.corr(df_vector,vector_col).collect() [0][0]"
      ],
      "metadata": {
        "id": "6LC9Wnu3anGC"
      },
      "execution_count": null,
      "outputs": []
    },
    {
      "cell_type": "code",
      "source": [
        "corrmatrix = matrix.toArray().tolist()"
      ],
      "metadata": {
        "id": "Dj7j2zyva39C"
      },
      "execution_count": null,
      "outputs": []
    },
    {
      "cell_type": "code",
      "source": [
        "print(corrmatrix)"
      ],
      "metadata": {
        "colab": {
          "base_uri": "https://localhost:8080/"
        },
        "id": "62KqV8ODbR2s",
        "outputId": "403defce-c26e-4381-b9d3-aba43edc4059"
      },
      "execution_count": null,
      "outputs": [
        {
          "output_type": "stream",
          "name": "stdout",
          "text": [
            "[[1.0, 0.12945867149927273, 0.1412819774071402, -0.08167177444900704, -0.07353461435162806, 0.017683090727830593, -0.0335226729626132, 0.5443412284023401, 0.22189815303398844], [0.12945867149927273, 1.0, 0.15258958656866442, 0.057327890738176956, 0.3313571099202079, 0.2210710694589828, 0.1373372998283708, 0.2635143198243338, 0.4665813983068757], [0.1412819774071402, 0.15258958656866442, 1.0, 0.2073705384030702, 0.08893337837319268, 0.28180528884991046, 0.04126494793009858, 0.23952794642136369, 0.0650683595503333], [-0.08167177444900704, 0.057327890738176956, 0.2073705384030702, 1.0, 0.4367825701200099, 0.39257320415903724, 0.18392757295416276, -0.11397026236774135, 0.0747522319183196], [-0.07353461435162806, 0.3313571099202079, 0.08893337837319268, 0.4367825701200099, 1.0, 0.1978590564931005, 0.18507092916809895, -0.04216295473537677, 0.13054795488404822], [0.017683090727830593, 0.2210710694589828, 0.28180528884991046, 0.39257320415903724, 0.1978590564931005, 1.0, 0.14064695254510515, 0.03624187009229411, 0.29269466264444677], [-0.0335226729626132, 0.1373372998283708, 0.04126494793009858, 0.18392757295416276, 0.18507092916809895, 0.14064695254510515, 1.0, 0.03356131243480562, 0.173844065652961], [0.5443412284023401, 0.2635143198243338, 0.23952794642136369, -0.11397026236774135, -0.04216295473537677, 0.03624187009229411, 0.03356131243480562, 1.0, 0.23835598302719851], [0.22189815303398844, 0.4665813983068757, 0.0650683595503333, 0.0747522319183196, 0.13054795488404822, 0.29269466264444677, 0.173844065652961, 0.23835598302719851, 1.0]]\n"
          ]
        }
      ]
    },
    {
      "cell_type": "code",
      "source": [
        "df.columns"
      ],
      "metadata": {
        "colab": {
          "base_uri": "https://localhost:8080/"
        },
        "id": "GBjCqtP3bVcP",
        "outputId": "3adc8b0b-2bf4-4d33-d79d-28d3cb4a9ed5"
      },
      "execution_count": null,
      "outputs": [
        {
          "output_type": "execute_result",
          "data": {
            "text/plain": [
              "['Pregnancies',\n",
              " 'Glucose',\n",
              " 'BloodPressure',\n",
              " 'SkinThickness',\n",
              " 'Insulin',\n",
              " 'BMI',\n",
              " 'DiabetesPedigreeFunction',\n",
              " 'Age',\n",
              " 'Outcome']"
            ]
          },
          "metadata": {},
          "execution_count": 30
        }
      ]
    },
    {
      "cell_type": "code",
      "source": [
        "columns = ['Pregnancies','Glucose','BloodPressure','SkinThickness','Insulin','BMI','DiabetesPedigreeFunction','Age','Outcome']"
      ],
      "metadata": {
        "id": "FAVESvOUbbPI"
      },
      "execution_count": null,
      "outputs": []
    },
    {
      "cell_type": "code",
      "source": [
        "df_corr = spark.createDataFrame(corrmatrix, columns)"
      ],
      "metadata": {
        "id": "CIw7YrjEbk7B"
      },
      "execution_count": null,
      "outputs": []
    },
    {
      "cell_type": "code",
      "source": [
        "df_corr.show()"
      ],
      "metadata": {
        "colab": {
          "base_uri": "https://localhost:8080/"
        },
        "id": "0baDdlH2bur3",
        "outputId": "0c26602a-f4b6-4cd7-c6fb-05176dd6daee"
      },
      "execution_count": null,
      "outputs": [
        {
          "output_type": "stream",
          "name": "stdout",
          "text": [
            "+--------------------+--------------------+-------------------+--------------------+--------------------+--------------------+------------------------+--------------------+-------------------+\n",
            "|         Pregnancies|             Glucose|      BloodPressure|       SkinThickness|             Insulin|                 BMI|DiabetesPedigreeFunction|                 Age|            Outcome|\n",
            "+--------------------+--------------------+-------------------+--------------------+--------------------+--------------------+------------------------+--------------------+-------------------+\n",
            "|                 1.0| 0.12945867149927273| 0.1412819774071402|-0.08167177444900704|-0.07353461435162806|0.017683090727830593|     -0.0335226729626132|  0.5443412284023401|0.22189815303398844|\n",
            "| 0.12945867149927273|                 1.0|0.15258958656866442|0.057327890738176956|  0.3313571099202079|  0.2210710694589828|      0.1373372998283708|  0.2635143198243338| 0.4665813983068757|\n",
            "|  0.1412819774071402| 0.15258958656866442|                1.0|  0.2073705384030702| 0.08893337837319268| 0.28180528884991046|     0.04126494793009858| 0.23952794642136369| 0.0650683595503333|\n",
            "|-0.08167177444900704|0.057327890738176956| 0.2073705384030702|                 1.0|  0.4367825701200099| 0.39257320415903724|     0.18392757295416276|-0.11397026236774135| 0.0747522319183196|\n",
            "|-0.07353461435162806|  0.3313571099202079|0.08893337837319268|  0.4367825701200099|                 1.0|  0.1978590564931005|     0.18507092916809895|-0.04216295473537677|0.13054795488404822|\n",
            "|0.017683090727830593|  0.2210710694589828|0.28180528884991046| 0.39257320415903724|  0.1978590564931005|                 1.0|     0.14064695254510515| 0.03624187009229411|0.29269466264444677|\n",
            "| -0.0335226729626132|  0.1373372998283708|0.04126494793009858| 0.18392757295416276| 0.18507092916809895| 0.14064695254510515|                     1.0| 0.03356131243480562|  0.173844065652961|\n",
            "|  0.5443412284023401|  0.2635143198243338|0.23952794642136369|-0.11397026236774135|-0.04216295473537677| 0.03624187009229411|     0.03356131243480562|                 1.0|0.23835598302719851|\n",
            "| 0.22189815303398844|  0.4665813983068757| 0.0650683595503333|  0.0747522319183196| 0.13054795488404822| 0.29269466264444677|       0.173844065652961| 0.23835598302719851|                1.0|\n",
            "+--------------------+--------------------+-------------------+--------------------+--------------------+--------------------+------------------------+--------------------+-------------------+\n",
            "\n"
          ]
        }
      ]
    },
    {
      "cell_type": "code",
      "source": [],
      "metadata": {
        "id": "EWipybSab17_"
      },
      "execution_count": null,
      "outputs": []
    }
  ]
}